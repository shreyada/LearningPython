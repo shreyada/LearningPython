{
 "cells": [
  {
   "cell_type": "code",
   "execution_count": null,
   "metadata": {},
   "outputs": [],
   "source": [
    "# age => 1-13 -> teenage\n",
    "# age => 13-18 -> young\n",
    "# age => 18-35 -> adult\n",
    "# age => 35-45 -> old\n",
    "# age => >=45 -> very old"
   ]
  },
  {
   "cell_type": "code",
   "execution_count": 7,
   "metadata": {},
   "outputs": [
    {
     "name": "stdout",
     "output_type": "stream",
     "text": [
      "very old\n"
     ]
    }
   ],
   "source": [
    "age = int(input(\"age:\"))\n",
    "\n",
    "if 1<= age < 13:\n",
    "    print(\"teenage\")\n",
    "else:\n",
    "    if 13 <= age <18:\n",
    "        print(\"young\")\n",
    "    if 18 <= age < 35:\n",
    "        print(\"adult\")\n",
    "    if 35 <= age < 45:\n",
    "        print(\"old\")\n",
    "    if 45 <= age:\n",
    "        print(\"very old\")\n"
   ]
  },
  {
   "cell_type": "code",
   "execution_count": 9,
   "metadata": {},
   "outputs": [
    {
     "name": "stdout",
     "output_type": "stream",
     "text": [
      "[1, 2, 3, 6, 7, 8, 9, 10, 11, 12, 19, 55, 24]\n"
     ]
    }
   ],
   "source": [
    "x = [55, 1, 2, 3, 1, 6, 2, 7, 1, 11, 19, 3, 8, 9, 3, 9, 10, 11, 12, 24, 1, 2, 3, 8]\n",
    "\n",
    "x = list(set(x))\n",
    "print (x)\n",
    "\n"
   ]
  },
  {
   "cell_type": "code",
   "execution_count": 10,
   "metadata": {},
   "outputs": [
    {
     "name": "stdout",
     "output_type": "stream",
     "text": [
      "[55, 1, 2, 3, 6, 7, 11, 19, 8, 9, 10, 12, 24]\n"
     ]
    }
   ],
   "source": [
    "x = [55, 1, 2, 3, 1, 6, 2, 7, 1, 11, 19, 3, 8, 9, 3, 9, 10, 11, 12, 24, 1, 2, 3, 8]\n",
    "\n",
    "new_list = []\n",
    "for element in x:\n",
    "    if element not in new_list:\n",
    "        new_list.append(element)\n",
    "\n",
    "print(new_list)\n",
    "\n",
    "#here we first make a new_list list which will contain the final output. Then we start the for loop which will iterate for each element in x.\n"
   ]
  }
 ],
 "metadata": {
  "kernelspec": {
   "display_name": "Python 3",
   "language": "python",
   "name": "python3"
  },
  "language_info": {
   "codemirror_mode": {
    "name": "ipython",
    "version": 3
   },
   "file_extension": ".py",
   "mimetype": "text/x-python",
   "name": "python",
   "nbconvert_exporter": "python",
   "pygments_lexer": "ipython3",
   "version": "3.12.0"
  }
 },
 "nbformat": 4,
 "nbformat_minor": 2
}
