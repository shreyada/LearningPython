{
 "cells": [
  {
   "cell_type": "code",
   "execution_count": 1,
   "id": "8f3754de-8ad4-49a5-aebf-119596dba6bd",
   "metadata": {},
   "outputs": [
    {
     "name": "stdout",
     "output_type": "stream",
     "text": [
      "6\n"
     ]
    }
   ],
   "source": [
    "x = 1\n",
    "y = 5\n",
    "sum = x + y\n",
    "print(sum)"
   ]
  },
  {
   "cell_type": "code",
   "execution_count": 2,
   "id": "eb378700-8fdb-4eb5-99b6-8b15ac5e4794",
   "metadata": {},
   "outputs": [],
   "source": [
    "#the value of x, i.e. 1, is an integer. Integer are all number values. x itself is a variable. Same goes for 'y' and 'sum'."
   ]
  },
  {
   "cell_type": "code",
   "execution_count": 3,
   "id": "05ce289a-d829-4552-a690-643cac71f6dc",
   "metadata": {},
   "outputs": [
    {
     "name": "stdout",
     "output_type": "stream",
     "text": [
      "6.5\n"
     ]
    }
   ],
   "source": [
    "x = 1\n",
    "y = 5.5  #this is not an integer now. 5.5 is a float.\n",
    "sum = x + y\n",
    "print(sum)   #so when we print this sum also becomes a float variable."
   ]
  },
  {
   "cell_type": "code",
   "execution_count": 4,
   "id": "f4d69356-3160-43b1-9ea8-b7234aab8679",
   "metadata": {},
   "outputs": [
    {
     "name": "stdout",
     "output_type": "stream",
     "text": [
      "nepal\n"
     ]
    }
   ],
   "source": [
    "country = 'nepal' #string\n",
    "print(country)\n"
   ]
  },
  {
   "cell_type": "code",
   "execution_count": 5,
   "id": "5eb72dd7-7df1-40bd-83b2-c7fabdd83381",
   "metadata": {},
   "outputs": [
    {
     "name": "stdout",
     "output_type": "stream",
     "text": [
      "560\n"
     ]
    }
   ],
   "source": [
    "sum = (1 + 8 + 25 + 22 + 1 + 8 + 25 + 22 + 1 + 8 + 25 + 22 +1 \n",
    "       + 8 + 25 + 22 + 1 + 8 + 25 + 22 + 1 + 8 + 25 + 22 + 1 +\n",
    "       8 + 25 + 22 + 1 + 8 + 25 + 22 + 1 + 8 + 25 + 22 + 1 + 8\n",
    "       + 25 + 22)\n",
    "print(sum)"
   ]
  },
  {
   "cell_type": "code",
   "execution_count": 6,
   "id": "9fd6f6c3-cd28-4044-ba8a-e14c813196c9",
   "metadata": {},
   "outputs": [
    {
     "name": "stdout",
     "output_type": "stream",
     "text": [
      "Unauthorized@\n"
     ]
    }
   ],
   "source": [
    "age = 17\n",
    "if age < 18:\n",
    "    print(\"Unauthorized@\") # 4 spaces >> indentation. In other programming languages the indentation is not used, curly bracket is used for the same purposes)\n"
   ]
  },
  {
   "cell_type": "code",
   "execution_count": 7,
   "id": "9f3aa1b5-b81d-4e62-8106-3cad58151f02",
   "metadata": {},
   "outputs": [],
   "source": [
    "country = \"Nepal\" #string\n",
    "number = 1 #integer\n",
    "f_number = 1.5 #float\n",
    "c_number = 1 + 6j #complex"
   ]
  },
  {
   "cell_type": "code",
   "execution_count": 8,
   "id": "2f824442-33e2-4ac8-9a05-dabb59244233",
   "metadata": {},
   "outputs": [
    {
     "name": "stdout",
     "output_type": "stream",
     "text": [
      "1 1 1\n"
     ]
    }
   ],
   "source": [
    "a = 1\n",
    "b = 1\n",
    "c = 1\n",
    "\n",
    "print(a,b,c)"
   ]
  },
  {
   "cell_type": "code",
   "execution_count": 9,
   "id": "0bcad559-a906-4477-99d1-78999bec09d2",
   "metadata": {},
   "outputs": [
    {
     "name": "stdout",
     "output_type": "stream",
     "text": [
      "1 1 1\n"
     ]
    }
   ],
   "source": [
    "a = b = c = 1\n",
    "print(a,b,c)"
   ]
  },
  {
   "cell_type": "code",
   "execution_count": 10,
   "id": "94d48e1b-6e57-413e-a105-0e9276892e5c",
   "metadata": {},
   "outputs": [
    {
     "name": "stdout",
     "output_type": "stream",
     "text": [
      "5 8 4\n"
     ]
    }
   ],
   "source": [
    "a = 5 ; b = 8 ; c = 4 \n",
    "print(a,b,c)"
   ]
  },
  {
   "cell_type": "code",
   "execution_count": 11,
   "id": "43bf9f6b-f3cd-485a-a765-f659aa42477d",
   "metadata": {},
   "outputs": [
    {
     "name": "stdout",
     "output_type": "stream",
     "text": [
      "5 8 4\n"
     ]
    }
   ],
   "source": [
    "a, b, c = 5, 8, 4\n",
    "print(a,b,c)\n"
   ]
  },
  {
   "cell_type": "code",
   "execution_count": 12,
   "id": "6eb5ed08-1e5a-4dad-b63d-63afc017060d",
   "metadata": {},
   "outputs": [],
   "source": [
    "gravity_of_earth= 9.8 #variables should be declarative. for variables we only use small case letters.\n",
    "\n",
    "# so constants are represented by GRAVITY, upper case letters\n",
    "\n",
    "GRAVITY_OF_EARTH = 9.8"
   ]
  },
  {
   "cell_type": "code",
   "execution_count": 13,
   "id": "2e9997d0-8c61-4e5a-b212-5080381ace93",
   "metadata": {},
   "outputs": [
    {
     "name": "stdout",
     "output_type": "stream",
     "text": [
      "10 100 200 4813\n"
     ]
    }
   ],
   "source": [
    "a = 0b1010 #binary\n",
    "b = 100 #decimal\n",
    "c= 0o310 #octal\n",
    "d = 0x12cd #hexadecimal\n",
    "\n",
    "print(a,b,c,d)"
   ]
  },
  {
   "cell_type": "code",
   "execution_count": 14,
   "id": "6675e887-7b5a-457b-80cf-b0d3d2eb0805",
   "metadata": {},
   "outputs": [
    {
     "name": "stdout",
     "output_type": "stream",
     "text": [
      "150.0\n"
     ]
    }
   ],
   "source": [
    "x = 150.0 \n",
    "print(x)"
   ]
  },
  {
   "cell_type": "code",
   "execution_count": 15,
   "id": "4666d4e8-3399-4086-9c5f-bfbc887e04a4",
   "metadata": {},
   "outputs": [
    {
     "name": "stdout",
     "output_type": "stream",
     "text": [
      "150.0\n"
     ]
    }
   ],
   "source": [
    "x = 1.5e2\n",
    "print(x)"
   ]
  },
  {
   "cell_type": "code",
   "execution_count": 16,
   "id": "34d6fa40-d27d-4ba2-b0fa-7724d6091e96",
   "metadata": {},
   "outputs": [],
   "source": [
    "#u can write strings in single quotation, double quotation, 3 single quotation, 3 double quotataions.\n",
    "name = 'name'\n",
    "name1 = '''name'''\n",
    "name2 = \"name\"\n",
    "name3 = \"\"\"name\"\"\""
   ]
  },
  {
   "cell_type": "code",
   "execution_count": 17,
   "id": "99f61b9c-9993-485f-bd80-9084a5b81100",
   "metadata": {},
   "outputs": [
    {
     "name": "stdout",
     "output_type": "stream",
     "text": [
      "apple banana mango orange grape\n"
     ]
    }
   ],
   "source": [
    "fruit = 'apple'\n",
    "fruit2 = 'banana'\n",
    "fruit3 = 'mango'\n",
    "fruit4 = 'orange'\n",
    "fruit5 = 'grape'\n",
    "\n",
    "print(fruit, fruit2, fruit3, fruit4, fruit5)\n"
   ]
  },
  {
   "cell_type": "code",
   "execution_count": 18,
   "id": "a0aa99a2-cc7e-4781-825b-cfcc7afc457f",
   "metadata": {},
   "outputs": [
    {
     "name": "stdout",
     "output_type": "stream",
     "text": [
      "['apple', 'banana', 'mango', 'orange', 'grape']\n"
     ]
    }
   ],
   "source": [
    "fruits = ['apple', 'banana', 'mango', 'orange', 'grape'] #[] is a list. this is a list of fruit\n",
    "print(fruits)"
   ]
  },
  {
   "cell_type": "code",
   "execution_count": 19,
   "id": "08c9fe73-344e-47ce-8b91-ee0d8e4c1aac",
   "metadata": {},
   "outputs": [],
   "source": [
    "#tuple \n",
    "fruits = ('apple', 'banana', 'mango', 'orange', 'grape')"
   ]
  },
  {
   "cell_type": "code",
   "execution_count": 20,
   "id": "1bfe632f-449c-44f1-b8f6-95e41ebb973f",
   "metadata": {},
   "outputs": [],
   "source": [
    "#set\n",
    "fruits = {'apple', 'banana', 'mango', 'orange', 'grape'}"
   ]
  },
  {
   "cell_type": "code",
   "execution_count": 21,
   "id": "a9c01ba8-2073-4545-9066-b3be9e55cc80",
   "metadata": {},
   "outputs": [
    {
     "name": "stdout",
     "output_type": "stream",
     "text": [
      "Help on built-in function print in module builtins:\n",
      "\n",
      "print(*args, sep=' ', end='\\n', file=None, flush=False)\n",
      "    Prints the values to a stream, or to sys.stdout by default.\n",
      "\n",
      "    sep\n",
      "      string inserted between values, default a space.\n",
      "    end\n",
      "      string appended after the last value, default a newline.\n",
      "    file\n",
      "      a file-like object (stream); defaults to the current sys.stdout.\n",
      "    flush\n",
      "      whether to forcibly flush the stream.\n",
      "\n"
     ]
    }
   ],
   "source": [
    "help(print) #to learn more about the function"
   ]
  },
  {
   "cell_type": "code",
   "execution_count": 22,
   "id": "5e292660-5bda-420b-b677-e291e57caa6a",
   "metadata": {},
   "outputs": [
    {
     "name": "stdout",
     "output_type": "stream",
     "text": [
      "1*2*3*4*5*6\n"
     ]
    }
   ],
   "source": [
    "print(1,2,3,4,5,6, sep = '*')"
   ]
  },
  {
   "cell_type": "code",
   "execution_count": 23,
   "id": "4a4db271-d827-4bd3-b664-1a72bc03bc77",
   "metadata": {},
   "outputs": [
    {
     "name": "stdout",
     "output_type": "stream",
     "text": [
      "I am\n",
      " from Nepal\n"
     ]
    }
   ],
   "source": [
    "print(\"I am\\n from Nepal\") "
   ]
  },
  {
   "cell_type": "code",
   "execution_count": null,
   "id": "d8e8afe0-0800-498a-ab7e-1f7f4d6a1e1e",
   "metadata": {},
   "outputs": [],
   "source": []
  }
 ],
 "metadata": {
  "kernelspec": {
   "display_name": "Python 3 (ipykernel)",
   "language": "python",
   "name": "python3"
  },
  "language_info": {
   "codemirror_mode": {
    "name": "ipython",
    "version": 3
   },
   "file_extension": ".py",
   "mimetype": "text/x-python",
   "name": "python",
   "nbconvert_exporter": "python",
   "pygments_lexer": "ipython3",
   "version": "3.12.0"
  }
 },
 "nbformat": 4,
 "nbformat_minor": 5
}
