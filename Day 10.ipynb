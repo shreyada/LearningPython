{
 "cells": [
  {
   "cell_type": "code",
   "execution_count": 2,
   "metadata": {},
   "outputs": [
    {
     "name": "stdout",
     "output_type": "stream",
     "text": [
      "4\n"
     ]
    }
   ],
   "source": [
    "name = \"ramesh pradhan\"\n",
    "\n",
    "vowels_in_name = 0\n",
    "\n",
    "for i in name:\n",
    "    if i.lower() in 'aeiou':\n",
    "        vowels_in_name += 1\n",
    "print(vowels_in_name)\n",
    "        "
   ]
  },
  {
   "cell_type": "code",
   "execution_count": null,
   "metadata": {},
   "outputs": [],
   "source": [
    "name = \"ramesh pradhan\"\n",
    "\n",
    "vowels_in_name = \"\"\n",
    "\n",
    "for i in name:\n",
    "    if i.lower() in 'aeiou':\n",
    "        vowels_in_name += i\n",
    "print(vowels_in_name)"
   ]
  },
  {
   "cell_type": "code",
   "execution_count": 3,
   "metadata": {},
   "outputs": [
    {
     "name": "stdout",
     "output_type": "stream",
     "text": [
      "dict_values([99, 55, 77])\n",
      "231\n"
     ]
    }
   ],
   "source": [
    "marks = {'Alan':99, 'Bill':55, 'Cory':77}\n",
    "print(marks.values())\n",
    "sum_of_marks = 0\n",
    "\n",
    "for marks in marks.values():\n",
    "        sum_of_marks += marks\n",
    "\n",
    "print(sum_of_marks)\n",
    "\n",
    "#marks.values() will give the values inside the dictionary"
   ]
  },
  {
   "cell_type": "code",
   "execution_count": 4,
   "metadata": {},
   "outputs": [
    {
     "name": "stdout",
     "output_type": "stream",
     "text": [
      "{'Alan': 4, 'Bill': 4, 'Ramesh': 6, 'Corry': 5, 'Ram': 3, 'Shyam Bahadur': 13, 'Gita': 4}\n"
     ]
    }
   ],
   "source": [
    "students = ['Alan', 'Bill', 'Ramesh', 'Corry', 'Ram', 'Shyam Bahadur','Gita']\n",
    "\n",
    "new_dict = {}\n",
    "\n",
    "for students in students:\n",
    "    new_dict.update({students: len(students)})\n",
    "print(new_dict)\n"
   ]
  },
  {
   "cell_type": "code",
   "execution_count": null,
   "metadata": {},
   "outputs": [],
   "source": [
    "range(0,10)"
   ]
  },
  {
   "cell_type": "code",
   "execution_count": null,
   "metadata": {},
   "outputs": [],
   "source": [
    "list(range(0,10)) #start, stop, step"
   ]
  },
  {
   "cell_type": "code",
   "execution_count": null,
   "metadata": {},
   "outputs": [],
   "source": [
    "list(range(10,-1,-1))"
   ]
  },
  {
   "cell_type": "code",
   "execution_count": null,
   "metadata": {},
   "outputs": [],
   "source": [
    "for i in range(0,10):\n",
    "    print(i)"
   ]
  },
  {
   "cell_type": "code",
   "execution_count": null,
   "metadata": {},
   "outputs": [],
   "source": [
    "students = ['Alan', 'Bill', 'Ramesh', 'Corry', 'Ram', 'Shyam Bahadur','Gita']\n",
    "\n",
    "index = 0\n",
    "\n",
    "for students in students:\n",
    "    print(f'{index} => {students}')\n",
    "    index += 1"
   ]
  },
  {
   "cell_type": "code",
   "execution_count": null,
   "metadata": {},
   "outputs": [],
   "source": [
    "students = ['Alan', 'Bill', 'Ramesh', 'Corry', 'Ram', 'Shyam Bahadur','Gita','Sita', ' Rita', 'Dorita']\n",
    "\n",
    "for i in range(0,len(students)):\n",
    "    print(f\"{i}=> {students[i]}\")"
   ]
  },
  {
   "cell_type": "code",
   "execution_count": null,
   "metadata": {},
   "outputs": [],
   "source": [
    "us_price = {'milk':2.03, 'bread': 2.6, 'butter':2.6}\n",
    "# {'milk':nepali of milk............ so on}\n",
    "\n",
    "us_price.items()\n"
   ]
  },
  {
   "cell_type": "code",
   "execution_count": null,
   "metadata": {},
   "outputs": [],
   "source": [
    "for i in us_price.items():\n",
    "    print(i)"
   ]
  },
  {
   "cell_type": "code",
   "execution_count": null,
   "metadata": {},
   "outputs": [],
   "source": [
    "x,y = (\"butter\", 2.6)\n",
    "print(x,y)"
   ]
  },
  {
   "cell_type": "code",
   "execution_count": null,
   "metadata": {},
   "outputs": [],
   "source": [
    "us_price = {\"milk\": 2.03, \"bread\":2.6, \"butter\": 2.6}\n",
    "nep_price = {}\n",
    "\n",
    "for k,v in us_price.items():\n",
    "    nep_price.update({k:v * 130})\n",
    "\n",
    "print(nep_price)"
   ]
  },
  {
   "cell_type": "code",
   "execution_count": null,
   "metadata": {},
   "outputs": [],
   "source": [
    "us_price = {\"milk\": 2.03, \"bread\":2.6, \"butter\": 2.6}\n",
    "nep_price = {}\n",
    "\n",
    "for k,v in us_price.items():\n",
    "    nep_price.update({k:v * 130 * 1.30})\n",
    "\n",
    "print(nep_price)"
   ]
  },
  {
   "cell_type": "code",
   "execution_count": null,
   "metadata": {},
   "outputs": [],
   "source": []
  }
 ],
 "metadata": {
  "kernelspec": {
   "display_name": "Python 3",
   "language": "python",
   "name": "python3"
  },
  "language_info": {
   "codemirror_mode": {
    "name": "ipython",
    "version": 3
   },
   "file_extension": ".py",
   "mimetype": "text/x-python",
   "name": "python",
   "nbconvert_exporter": "python",
   "pygments_lexer": "ipython3",
   "version": "3.12.0"
  }
 },
 "nbformat": 4,
 "nbformat_minor": 2
}
