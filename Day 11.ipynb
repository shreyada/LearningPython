{
 "cells": [
  {
   "cell_type": "code",
   "execution_count": 1,
   "metadata": {},
   "outputs": [],
   "source": [
    "#FOR LOOP\n",
    "\n",
    "#Pass. Not only used for loop but others also\n",
    "\n",
    "age = 17\n",
    "\n",
    "if age < 18:\n",
    "    pass\n",
    "\n",
    "#pass le error aaudaina. it saves the code for later without showing any error"
   ]
  },
  {
   "cell_type": "code",
   "execution_count": 6,
   "metadata": {},
   "outputs": [
    {
     "name": "stdout",
     "output_type": "stream",
     "text": [
      "1\n",
      "2\n",
      "3\n",
      "4\n",
      "5\n",
      "7\n",
      "8\n",
      "9\n",
      "10\n"
     ]
    }
   ],
   "source": [
    "numbers = {1,2,3,4,5,6,7,8,9,10}\n",
    "\n",
    "for i in numbers:\n",
    "   if i != 6:\n",
    "       print(i)"
   ]
  },
  {
   "cell_type": "code",
   "execution_count": 13,
   "metadata": {},
   "outputs": [
    {
     "name": "stdout",
     "output_type": "stream",
     "text": [
      "1\n",
      "2\n",
      "3\n",
      "4\n",
      "5\n",
      "7\n",
      "8\n",
      "9\n",
      "10\n"
     ]
    }
   ],
   "source": [
    "numbers = {1,2,3,4,5,6,7,8,9,10}\n",
    "\n",
    "for i in numbers:\n",
    "   if i == 6:\n",
    "    pass\n",
    "   else:\n",
    "     print(i)"
   ]
  },
  {
   "cell_type": "code",
   "execution_count": 20,
   "metadata": {},
   "outputs": [
    {
     "name": "stdout",
     "output_type": "stream",
     "text": [
      "72\n"
     ]
    }
   ],
   "source": [
    "numbers = {1,2,3,4,5,6,7,8,9,10,11,12}\n",
    "\n",
    "sum = 0\n",
    "for i in numbers:\n",
    "   if i == 6:\n",
    "    pass\n",
    "   else:\n",
    "     sum += i\n",
    "print(sum)"
   ]
  },
  {
   "cell_type": "code",
   "execution_count": 32,
   "metadata": {},
   "outputs": [
    {
     "name": "stdout",
     "output_type": "stream",
     "text": [
      "1\n",
      "2\n",
      "3\n",
      "4\n",
      "5\n",
      "7\n",
      "8\n",
      "9\n",
      "10\n"
     ]
    }
   ],
   "source": [
    "numbers = {1,2,3,4,5,6,7,8,9,10}\n",
    "\n",
    "for i in numbers:\n",
    "   if i == 6:\n",
    "    continue #skip the item inside loop and does not run code after continue.\n",
    "   print(i)"
   ]
  },
  {
   "cell_type": "code",
   "execution_count": 3,
   "metadata": {},
   "outputs": [
    {
     "name": "stdout",
     "output_type": "stream",
     "text": [
      "1\n",
      "2\n",
      "3\n",
      "4\n",
      "5\n"
     ]
    }
   ],
   "source": [
    "numbers = {1,2,3,4,5,6,7,8,9,10}\n",
    "\n",
    "for i in numbers:\n",
    "   if i == 6:\n",
    "    break #exit from current loop.\n",
    "   print(i)"
   ]
  },
  {
   "cell_type": "code",
   "execution_count": 34,
   "metadata": {},
   "outputs": [
    {
     "name": "stdout",
     "output_type": "stream",
     "text": [
      "ram eats momo\n",
      "ram eats chowmein\n",
      "ram eats thukpa\n",
      "shyam eats momo\n",
      "shyam eats chowmein\n",
      "shyam eats thukpa\n",
      "sita eats momo\n",
      "sita eats chowmein\n",
      "sita eats thukpa\n",
      "gita eats momo\n",
      "gita eats chowmein\n",
      "gita eats thukpa\n"
     ]
    }
   ],
   "source": [
    "names = ['ram','shyam','sita','gita']\n",
    "\n",
    "foods = ['momo','chowmein','thukpa']\n",
    "\n",
    "#nested loops\n",
    "\n",
    "for name in names:\n",
    "    for food in foods:\n",
    "        print(f\"{name} eats {food}\")         \n",
    "         "
   ]
  },
  {
   "cell_type": "code",
   "execution_count": 37,
   "metadata": {},
   "outputs": [
    {
     "name": "stdout",
     "output_type": "stream",
     "text": [
      "ram\n",
      "shyam\n",
      "sita\n",
      "gita\n"
     ]
    }
   ],
   "source": [
    "#while loop\n",
    "\n",
    "names = ['ram','shyam','sita','gita']\n",
    "\n",
    "i = 0\n",
    "\n",
    "while i < len(names): #this code is saying as long as i is less than the length of names list, the loop will run.\n",
    "    #so if we are printing ram then i = 0, i < 4, so the loop will continue\n",
    "    print(names[i])\n",
    "    i += 1"
   ]
  },
  {
   "cell_type": "code",
   "execution_count": 42,
   "metadata": {},
   "outputs": [
    {
     "name": "stdout",
     "output_type": "stream",
     "text": [
      "one 0\n",
      "two 1\n",
      "three 2\n",
      "four 3\n",
      "five 4\n"
     ]
    }
   ],
   "source": [
    "words = ['one','two','three','four','five']\n",
    "i = 0\n",
    "\n",
    "while i < len(words): #this code is saying as long as i is less than the length of names list, the loop will run.\n",
    "    #so if we are printing ram then i = 0, i < 4, so the loop will continue\n",
    "    print(f\"{words[i]} {i}\")\n",
    "    i += 1\n"
   ]
  },
  {
   "cell_type": "code",
   "execution_count": 44,
   "metadata": {},
   "outputs": [
    {
     "name": "stdout",
     "output_type": "stream",
     "text": [
      "78\n"
     ]
    }
   ],
   "source": [
    "numbers = [1,2,3,4,5,6,7,8,9,10,11,12]\n",
    "\n",
    "i = 0\n",
    "sum = 0\n",
    "\n",
    "while i< len(numbers):\n",
    "    sum += numbers[i]\n",
    "    i += 1 \n",
    "\n",
    "print(sum)"
   ]
  },
  {
   "cell_type": "code",
   "execution_count": null,
   "metadata": {},
   "outputs": [],
   "source": [
    "#if you know how many time u need to loop a code, use FOR LOOP.\n",
    "#if you don't know how many times u need to loop a code use WHILE LOOP."
   ]
  },
  {
   "cell_type": "code",
   "execution_count": 52,
   "metadata": {},
   "outputs": [
    {
     "ename": "ValueError",
     "evalue": "invalid literal for int() with base 10: ''",
     "output_type": "error",
     "traceback": [
      "\u001b[1;31m---------------------------------------------------------------------------\u001b[0m",
      "\u001b[1;31mValueError\u001b[0m                                Traceback (most recent call last)",
      "Cell \u001b[1;32mIn[52], line 1\u001b[0m\n\u001b[1;32m----> 1\u001b[0m ask_age \u001b[38;5;241m=\u001b[39m \u001b[38;5;28;43mint\u001b[39;49m\u001b[43m(\u001b[49m\u001b[38;5;28;43minput\u001b[39;49m\u001b[43m(\u001b[49m\u001b[38;5;124;43m\"\u001b[39;49m\u001b[38;5;124;43mWhat\u001b[39;49m\u001b[38;5;124;43m'\u001b[39;49m\u001b[38;5;124;43ms your age?\u001b[39;49m\u001b[38;5;124;43m\"\u001b[39;49m\u001b[43m)\u001b[49m\u001b[43m)\u001b[49m\n\u001b[0;32m      3\u001b[0m \u001b[38;5;28;01mwhile\u001b[39;00m ask_age \u001b[38;5;241m<\u001b[39m\u001b[38;5;241m=\u001b[39m \u001b[38;5;241m18\u001b[39m:\n\u001b[0;32m      4\u001b[0m     ask_age \u001b[38;5;241m=\u001b[39m \u001b[38;5;28mint\u001b[39m(\u001b[38;5;28minput\u001b[39m(\u001b[38;5;124m\"\u001b[39m\u001b[38;5;124mWhat\u001b[39m\u001b[38;5;124m'\u001b[39m\u001b[38;5;124ms your age?\u001b[39m\u001b[38;5;124m\"\u001b[39m))\n",
      "\u001b[1;31mValueError\u001b[0m: invalid literal for int() with base 10: ''"
     ]
    }
   ],
   "source": [
    "ask_age = int(input(\"What's your age?\"))\n",
    "\n",
    "while ask_age <= 18:\n",
    "    ask_age = int(input(\"What's your age?\"))\n",
    "    print(ask_age)"
   ]
  },
  {
   "cell_type": "code",
   "execution_count": 1,
   "metadata": {},
   "outputs": [
    {
     "name": "stdout",
     "output_type": "stream",
     "text": [
      "8\n"
     ]
    }
   ],
   "source": [
    "#FUNCTION. def defines a function. Functions are to be called by their assigned name. Like we defined addition as a function and now to call the function we type addition and run the code. It will run the function.\n",
    "def addition():\n",
    "    x = 5\n",
    "    y = 3\n",
    "\n",
    "    sum = x + y\n",
    "    print(sum)\n",
    "\n",
    "addition()"
   ]
  },
  {
   "cell_type": "code",
   "execution_count": 2,
   "metadata": {},
   "outputs": [],
   "source": [
    "def addition(x,y): #the x and y inside the bracket is called parameter or argument\n",
    "    sum = x + y\n",
    "    print(sum)"
   ]
  },
  {
   "cell_type": "code",
   "execution_count": 57,
   "metadata": {},
   "outputs": [
    {
     "name": "stdout",
     "output_type": "stream",
     "text": [
      "8\n"
     ]
    }
   ],
   "source": [
    "addition(5,3) # always assign values to function otherwise it will give error."
   ]
  },
  {
   "cell_type": "code",
   "execution_count": null,
   "metadata": {},
   "outputs": [],
   "source": []
  }
 ],
 "metadata": {
  "kernelspec": {
   "display_name": "Python 3",
   "language": "python",
   "name": "python3"
  },
  "language_info": {
   "codemirror_mode": {
    "name": "ipython",
    "version": 3
   },
   "file_extension": ".py",
   "mimetype": "text/x-python",
   "name": "python",
   "nbconvert_exporter": "python",
   "pygments_lexer": "ipython3",
   "version": "3.12.0"
  }
 },
 "nbformat": 4,
 "nbformat_minor": 2
}
