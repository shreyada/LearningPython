{
 "cells": [
  {
   "cell_type": "code",
   "execution_count": 3,
   "metadata": {},
   "outputs": [],
   "source": [
    "#OOP\n",
    "class Person:\n",
    "    def __init__(self,name,age,address):\n",
    "        self.name = name\n",
    "        self.age = age\n",
    "        self.address = address\n",
    "\n",
    "    def eat(self):\n",
    "        print(f'{self.name} is sleeping')\n",
    "    \n",
    "    def walking(self):\n",
    "        print(f'{self.name} is walking')\n",
    "    \n",
    "\n",
    "\n",
    "class Student(Person): #Inheritance\n",
    "    def __init__(self,name, address,college,faculty,roll_no):\n",
    "        super().__init__(nama,age,address)\n",
    "        self.college = college\n",
    "        self.faculty = faculty\n",
    "        self.roll_no = roll_no\n",
    "        self.subjects = []\n",
    "\n",
    "    def learn(self):\n",
    "        print(f\"Student is learning {self.subjects}\")\n",
    "    \n",
    "    def add_subject(self,subject_name):\n",
    "        if subject_name not in self.subjects:\n",
    "            self.subjects.append(subject_name)\n",
    "\n",
    "    def info(self):\n",
    "        super().info()\n",
    "        print(f\"College: {self.college}\")\n",
    "        print(f\"Faculty: {self.faculty}\")\n",
    "        print(f\"Roll No: {self.roll_no}\")\n",
    "        print(f\"Subjects: {self.subjects}\")\n"
   ]
  },
  {
   "cell_type": "code",
   "execution_count": null,
   "metadata": {},
   "outputs": [],
   "source": [
    "#Inheritance\n",
    "\n",
    "#single inheritance. Person bhanne class le Student bhanne class inherit garyo i.e. single inheritance.\n",
    "\n",
    "class Person:\n",
    "    pass\n",
    "\n",
    "class Student(Person):\n",
    "    pass\n"
   ]
  },
  {
   "cell_type": "code",
   "execution_count": 7,
   "metadata": {},
   "outputs": [
    {
     "name": "stdout",
     "output_type": "stream",
     "text": [
      "Inside Person class\n",
      "Name: Jess Age: 28\n",
      "Insode Employee class\n",
      "Salary: Google Skill: Atlanta\n",
      "Inside Employee Class\n",
      "Salary: 12000 Skill: Machine Learning\n"
     ]
    }
   ],
   "source": [
    "#multiple inheritance.\n",
    "class Person:  #Parent Class\n",
    "    def person_info(self,name,age):\n",
    "        print('Inside Person class')\n",
    "        print('Name:', name, 'Age:',age)\n",
    "    \n",
    "class Company: #Parent class 2\n",
    "    def company_info(self,salary,skill):\n",
    "        print('Insode Employee class')\n",
    "        print('Salary:', salary, 'Skill:',skill)\n",
    "\n",
    "class Employee(Person,Company): #child class\n",
    "    def employee_info(self,salary,skills):\n",
    "        print('Inside Employee Class')\n",
    "        print('Salary:', salary,'Skill:',skills)\n",
    "\n",
    "#Create Object of Employee\n",
    "        \n",
    "emp = Employee()\n",
    "\n",
    "#acess data\n",
    "emp.person_info('Jess', 28)\n",
    "emp.company_info('Google',\"Atlanta\")\n",
    "emp.employee_info(12000,\"Machine Learning\")\n",
    "\n",
    "    \n",
    "\n",
    "\n",
    "    \n",
    "    \n",
    "\n"
   ]
  },
  {
   "cell_type": "code",
   "execution_count": 8,
   "metadata": {},
   "outputs": [],
   "source": [
    "#multilevel inheritance\n",
    "\n",
    "\n",
    "\n",
    "\n",
    "#OOP\n",
    "class Person:\n",
    "    def __init__(self,name,age,address):\n",
    "        self.name = name\n",
    "        self.age = age\n",
    "        self.address = address\n",
    "\n",
    "    def eat(self):\n",
    "        print(f'{self.name} is sleeping')\n",
    "    \n",
    "    def walking(self):\n",
    "        print(f'{self.name} is walking')\n",
    "    \n",
    "\n",
    "\n",
    "class Student(Person): #Inheritance\n",
    "    def __init__(self,name, address,college,faculty,roll_no):\n",
    "        super().__init__(nama,age,address)\n",
    "        self.college = college\n",
    "        self.faculty = faculty\n",
    "        self.roll_no = roll_no\n",
    "        self.subjects = []\n",
    "\n",
    "    def learn(self):\n",
    "        print(f\"Student is learning {self.subjects}\")\n",
    "    \n",
    "    def add_subject(self,subject_name):\n",
    "        if subject_name not in self.subjects:\n",
    "            self.subjects.append(subject_name)\n",
    "\n",
    "    def info(self):\n",
    "        super().info()\n",
    "        print(f\"College: {self.college}\")\n",
    "        print(f\"Faculty: {self.faculty}\")\n",
    "        print(f\"Roll No: {self.roll_no}\")\n",
    "        print(f\"Subjects: {self.subjects}\")\n",
    "\n",
    "    \n",
    "class BachelorStudent(Student):\n",
    "    def __init__(self,name,age,address,college,faculty,roll_no,university):\n",
    "        super().__init__(name,age,address,college,faculty,roll_no)\n",
    "        self.university = university\n",
    "\n",
    "    def info(self):\n",
    "        super().info() #calling student's info method\n",
    "        print(f\"University: {self.University}\")\n",
    "\n"
   ]
  },
  {
   "cell_type": "code",
   "execution_count": 12,
   "metadata": {},
   "outputs": [
    {
     "ename": "TypeError",
     "evalue": "Student.__init__() takes 6 positional arguments but 7 were given",
     "output_type": "error",
     "traceback": [
      "\u001b[1;31m---------------------------------------------------------------------------\u001b[0m",
      "\u001b[1;31mTypeError\u001b[0m                                 Traceback (most recent call last)",
      "Cell \u001b[1;32mIn[12], line 1\u001b[0m\n\u001b[1;32m----> 1\u001b[0m s1 \u001b[38;5;241m=\u001b[39m \u001b[43mBachelorStudent\u001b[49m\u001b[43m(\u001b[49m\n\u001b[0;32m      2\u001b[0m \u001b[43m    \u001b[49m\u001b[43mname\u001b[49m\u001b[43m \u001b[49m\u001b[38;5;241;43m=\u001b[39;49m\u001b[43m \u001b[49m\u001b[38;5;124;43m\"\u001b[39;49m\u001b[38;5;124;43mram\u001b[39;49m\u001b[38;5;124;43m\"\u001b[39;49m\u001b[43m,\u001b[49m\n\u001b[0;32m      3\u001b[0m \u001b[43m    \u001b[49m\u001b[43mage\u001b[49m\u001b[43m \u001b[49m\u001b[38;5;241;43m=\u001b[39;49m\u001b[43m \u001b[49m\u001b[38;5;241;43m22\u001b[39;49m\u001b[43m,\u001b[49m\n\u001b[0;32m      4\u001b[0m \u001b[43m    \u001b[49m\u001b[43maddress\u001b[49m\u001b[43m \u001b[49m\u001b[38;5;241;43m=\u001b[39;49m\u001b[43m \u001b[49m\u001b[38;5;124;43m\"\u001b[39;49m\u001b[38;5;124;43mktm\u001b[39;49m\u001b[38;5;124;43m\"\u001b[39;49m\u001b[43m,\u001b[49m\n\u001b[0;32m      5\u001b[0m \u001b[43m    \u001b[49m\u001b[43mcollege\u001b[49m\u001b[43m \u001b[49m\u001b[38;5;241;43m=\u001b[39;49m\u001b[43m \u001b[49m\u001b[38;5;124;43m\"\u001b[39;49m\u001b[38;5;124;43mbroadway\u001b[39;49m\u001b[38;5;124;43m\"\u001b[39;49m\u001b[43m,\u001b[49m\n\u001b[0;32m      6\u001b[0m \u001b[43m    \u001b[49m\u001b[43mfaculty\u001b[49m\u001b[43m \u001b[49m\u001b[38;5;241;43m=\u001b[39;49m\u001b[43m \u001b[49m\u001b[38;5;124;43m\"\u001b[39;49m\u001b[38;5;124;43mit\u001b[39;49m\u001b[38;5;124;43m\"\u001b[39;49m\u001b[43m,\u001b[49m\n\u001b[0;32m      7\u001b[0m \u001b[43m    \u001b[49m\u001b[43mroll_no\u001b[49m\u001b[43m \u001b[49m\u001b[38;5;241;43m=\u001b[39;49m\u001b[43m \u001b[49m\u001b[38;5;241;43m2\u001b[39;49m\u001b[43m,\u001b[49m\n\u001b[0;32m      8\u001b[0m \u001b[43m    \u001b[49m\u001b[43muniversity\u001b[49m\u001b[43m \u001b[49m\u001b[38;5;241;43m=\u001b[39;49m\u001b[43m \u001b[49m\u001b[38;5;124;43m\"\u001b[39;49m\u001b[38;5;124;43mTU\u001b[39;49m\u001b[38;5;124;43m\"\u001b[39;49m\u001b[43m,\u001b[49m\n\u001b[0;32m      9\u001b[0m \u001b[43m)\u001b[49m\n\u001b[0;32m     11\u001b[0m s1\u001b[38;5;241m.\u001b[39mlearn()\n\u001b[0;32m     12\u001b[0m s1\u001b[38;5;241m.\u001b[39minfo()\n",
      "Cell \u001b[1;32mIn[8], line 46\u001b[0m, in \u001b[0;36mBachelorStudent.__init__\u001b[1;34m(self, name, age, address, college, faculty, roll_no, university)\u001b[0m\n\u001b[0;32m     45\u001b[0m \u001b[38;5;28;01mdef\u001b[39;00m \u001b[38;5;21m__init__\u001b[39m(\u001b[38;5;28mself\u001b[39m,name,age,address,college,faculty,roll_no,university):\n\u001b[1;32m---> 46\u001b[0m     \u001b[38;5;28;43msuper\u001b[39;49m\u001b[43m(\u001b[49m\u001b[43m)\u001b[49m\u001b[38;5;241;43m.\u001b[39;49m\u001b[38;5;21;43m__init__\u001b[39;49m\u001b[43m(\u001b[49m\u001b[43mname\u001b[49m\u001b[43m,\u001b[49m\u001b[43mage\u001b[49m\u001b[43m,\u001b[49m\u001b[43maddress\u001b[49m\u001b[43m,\u001b[49m\u001b[43mcollege\u001b[49m\u001b[43m,\u001b[49m\u001b[43mfaculty\u001b[49m\u001b[43m,\u001b[49m\u001b[43mroll_no\u001b[49m\u001b[43m)\u001b[49m\n\u001b[0;32m     47\u001b[0m     \u001b[38;5;28mself\u001b[39m\u001b[38;5;241m.\u001b[39muniversity \u001b[38;5;241m=\u001b[39m university\n",
      "\u001b[1;31mTypeError\u001b[0m: Student.__init__() takes 6 positional arguments but 7 were given"
     ]
    }
   ],
   "source": [
    "s1 = BachelorStudent(\n",
    "    name = \"ram\",\n",
    "    age = 22,\n",
    "    address = \"ktm\",\n",
    "    college = \"broadway\",\n",
    "    faculty = \"it\",\n",
    "    roll_no = 2,\n",
    "    university = \"TU\",\n",
    ")\n",
    "\n",
    "s1.learn()\n",
    "s1.info()"
   ]
  },
  {
   "cell_type": "code",
   "execution_count": 14,
   "metadata": {},
   "outputs": [
    {
     "name": "stdout",
     "output_type": "stream",
     "text": [
      "This is vehicle\n",
      "The car is: BMW\n",
      "This is vehicle\n",
      "The Truck name is ford\n"
     ]
    }
   ],
   "source": [
    "#Hierarchical Inheritance. eutai parent class lai inherit garchha bhane hieracrchical inheritance.\n",
    "\n",
    "class Vehicle:\n",
    "    def info(self):\n",
    "        print(\"This is vehicle\")\n",
    "\n",
    "class Car(Vehicle):\n",
    "    def car_info(self, name):\n",
    "        print(\"The car is:\", name)\n",
    "\n",
    "class Truck(Vehicle):\n",
    "    def truck_info(self,name):\n",
    "        print(\"The Truck name is\", name)\n",
    "\n",
    "\n",
    "obj1 = Car()\n",
    "obj1.info()\n",
    "obj1.car_info(\"BMW\")\n",
    "\n",
    "obj2 = Truck()\n",
    "obj2.info()\n",
    "obj2.truck_info(\"ford\")"
   ]
  },
  {
   "cell_type": "code",
   "execution_count": 16,
   "metadata": {},
   "outputs": [
    {
     "name": "stdout",
     "output_type": "stream",
     "text": [
      "This is vehicle\n",
      "Tha car is\n",
      "This is sports car\n"
     ]
    }
   ],
   "source": [
    "#Hybrid Inheritance Spaghetti code, dont do it. afai le bujhdaina. best is single inheritance\n",
    "\n",
    "class Vehicle():\n",
    "    def info(self):\n",
    "        print(\"This is vehicle\")\n",
    "    \n",
    "class Car(Vehicle): #This is single inheritance\n",
    "    def car_info(self):\n",
    "        print(\"Tha car is\")\n",
    "\n",
    "class Truck(Vehicle): #This is Hierarchical\n",
    "    def truck_info(self):\n",
    "        print(\"Inside Car class\")\n",
    "\n",
    "class SportsCar(Car,Vehicle): #This is multiple\n",
    "    def sports_car_info(self):\n",
    "        print(\"This is sports car\")\n",
    "\n",
    "#create an object:\n",
    "        \n",
    "s_car = SportsCar()\n",
    "\n",
    "s_car.info()\n",
    "s_car.car_info()\n",
    "s_car.sports_car_info()\n",
    "\n",
    "\n",
    "\n",
    "#sakesamma do not do this hybrid inheritance!!!!"
   ]
  },
  {
   "cell_type": "code",
   "execution_count": null,
   "metadata": {},
   "outputs": [],
   "source": [
    "#ATTRIBUTES HARU Padchham"
   ]
  }
 ],
 "metadata": {
  "kernelspec": {
   "display_name": "Python 3",
   "language": "python",
   "name": "python3"
  },
  "language_info": {
   "codemirror_mode": {
    "name": "ipython",
    "version": 3
   },
   "file_extension": ".py",
   "mimetype": "text/x-python",
   "name": "python",
   "nbconvert_exporter": "python",
   "pygments_lexer": "ipython3",
   "version": "3.12.0"
  }
 },
 "nbformat": 4,
 "nbformat_minor": 2
}
