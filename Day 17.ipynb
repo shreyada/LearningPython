{
 "cells": [
  {
   "cell_type": "code",
   "execution_count": 6,
   "metadata": {},
   "outputs": [],
   "source": [
    "class Rectangle:\n",
    "    def __init__(self,length,breadth):\n",
    "        #public attributes can be accessed outside of class\n",
    "        self.length = length\n",
    "        self.breadth = breadth\n",
    "        \n",
    "        #public method\n",
    "    def area(self):\n",
    "            return self.length * self.breadth\n",
    "        \n",
    "    def perimeter(self):\n",
    "            return 2*(self.length+self.breadth)"
   ]
  },
  {
   "cell_type": "code",
   "execution_count": 7,
   "metadata": {},
   "outputs": [
    {
     "data": {
      "text/plain": [
       "'ramram'"
      ]
     },
     "execution_count": 7,
     "metadata": {},
     "output_type": "execute_result"
    }
   ],
   "source": [
    "r = Rectangle(2,2)\n",
    "\n",
    "r.length = \"ram\"\n",
    "\n",
    "r.area()"
   ]
  },
  {
   "cell_type": "code",
   "execution_count": 8,
   "metadata": {},
   "outputs": [],
   "source": [
    "class Circle():\n",
    "    def __init__(self,radius):\n",
    "        self.radius = radius\n",
    "        \n",
    "    def area(self):\n",
    "        return 3.14*self.radius ** 2 \n",
    "    \n",
    "    def perimeter(self):\n",
    "        return 2*3.14*self.radius\n",
    "    "
   ]
  },
  {
   "cell_type": "code",
   "execution_count": 9,
   "metadata": {},
   "outputs": [
    {
     "data": {
      "text/plain": [
       "3419.46"
      ]
     },
     "execution_count": 9,
     "metadata": {},
     "output_type": "execute_result"
    }
   ],
   "source": [
    "c = Circle(33)\n",
    "\n",
    "c.area()"
   ]
  },
  {
   "cell_type": "code",
   "execution_count": 42,
   "metadata": {},
   "outputs": [],
   "source": [
    "class Rectangle:\n",
    "    def __init__(self,length,breadth):\n",
    "        #private attributes can be accessed outside of class\n",
    "        self.length = length\n",
    "        self.breadth = breadth\n",
    "        \n",
    "        #public method\n",
    "    def length_getter(self):\n",
    "          return self.length \n",
    "    \n",
    "    def length_setter(self,value):\n",
    "         self.length = value\n",
    "    \n",
    "    def breadth_getter(self):\n",
    "          return self.breadth \n",
    "    \n",
    "    def breadth_setter(self,value):\n",
    "          self.breadth = value\n",
    "    def area(self):\n",
    "            return self.length * self.breadth\n",
    "        \n",
    "    def perimeter(self):\n",
    "            return 2*(self.length+self.breadth)"
   ]
  },
  {
   "cell_type": "code",
   "execution_count": 41,
   "metadata": {},
   "outputs": [],
   "source": [
    "r = Rectangle(2,4)"
   ]
  },
  {
   "cell_type": "code",
   "execution_count": 43,
   "metadata": {},
   "outputs": [],
   "source": [
    "r.length_setter(6)"
   ]
  },
  {
   "cell_type": "code",
   "execution_count": 44,
   "metadata": {},
   "outputs": [
    {
     "data": {
      "text/plain": [
       "6"
      ]
     },
     "execution_count": 44,
     "metadata": {},
     "output_type": "execute_result"
    }
   ],
   "source": [
    "r.length_getter()"
   ]
  },
  {
   "cell_type": "code",
   "execution_count": 56,
   "metadata": {},
   "outputs": [],
   "source": [
    "class Rectangle:\n",
    "    def __init__(self,length,breadth):\n",
    "        #private attributes can be accessed outside of class\n",
    "        self.length = length\n",
    "        self.breadth = breadth\n",
    "        \n",
    "        #public method\n",
    "    def length_getter(self):\n",
    "          return self.length \n",
    "    \n",
    "    def length_setter(self,value):\n",
    "         if not isinstance(value, (float,int)):\n",
    "               raise ValueError(\"Not a valid data type\") #Validation\n",
    "         if value < 1:\n",
    "               raise ValueError(\"not a valid data type\")\n",
    "         self.length = value\n",
    "    \n",
    "    def breadth_getter(self):\n",
    "          return self.breadth \n",
    "    \n",
    "    def breadth_setter(self,value):\n",
    "          self.breadth = value\n",
    "    def area(self):\n",
    "            return self.length * self.breadth\n",
    "        \n",
    "    def perimeter(self):\n",
    "            return 2*(self.length+self.breadth)"
   ]
  },
  {
   "cell_type": "code",
   "execution_count": 58,
   "metadata": {},
   "outputs": [],
   "source": [
    "r = Rectangle(2,4)\n",
    "r.length_setter(3.33)\n"
   ]
  },
  {
   "cell_type": "code",
   "execution_count": 48,
   "metadata": {},
   "outputs": [],
   "source": [
    "class Circle():\n",
    "    def __init__(self,radius):\n",
    "        self.radius = radius\n",
    "        \n",
    "    def area(self):\n",
    "        return 3.14*self.radius ** 2 \n",
    "    def radius_setter(self,value):\n",
    "        if not isinstance(value,(float,int)):\n",
    "            raise ValueError(\"Not a valid type\")\n",
    "        self.radius - value\n",
    "    \n",
    "    def perimeter(self):\n",
    "        return 2*3.14*self.radius"
   ]
  },
  {
   "cell_type": "code",
   "execution_count": 67,
   "metadata": {},
   "outputs": [],
   "source": [
    "class Rectangle:\n",
    "    def __init__(self,length,breadth):\n",
    "        #private attributes can be accessed outside of class\n",
    "        self.length = length\n",
    "        self.breadth = breadth\n",
    "\n",
    "    def __validation(self,value): #private method\n",
    "        if not isinstance(value, (float,int)):\n",
    "            raise ValueError(\"Not a valid data type\") #Validation\n",
    "        if value < 1:\n",
    "            raise ValueError(\"not a valid data type\")\n",
    "        \n",
    "        #public method\n",
    "    def length_getter(self):\n",
    "          return self.length \n",
    "    \n",
    "    def length_setter(self,value):\n",
    "         self.__validation(value)\n",
    "         self.length = value\n",
    "    \n",
    "    def breadth_getter(self):\n",
    "          return self.breadth \n",
    "    \n",
    "    def breadth_setter(self,value):\n",
    "          self.breadth = value\n",
    "    def area(self):\n",
    "            return self.length * self.breadth\n",
    "        \n",
    "    def perimeter(self):\n",
    "            return 2*(self.length+self.breadth)"
   ]
  },
  {
   "cell_type": "code",
   "execution_count": 66,
   "metadata": {},
   "outputs": [],
   "source": [
    "r = Rectangle(2,4)\n",
    "r.length_setter(3.33)"
   ]
  },
  {
   "cell_type": "code",
   "execution_count": null,
   "metadata": {},
   "outputs": [],
   "source": []
  }
 ],
 "metadata": {
  "kernelspec": {
   "display_name": "Python 3",
   "language": "python",
   "name": "python3"
  },
  "language_info": {
   "codemirror_mode": {
    "name": "ipython",
    "version": 3
   },
   "file_extension": ".py",
   "mimetype": "text/x-python",
   "name": "python",
   "nbconvert_exporter": "python",
   "pygments_lexer": "ipython3",
   "version": "3.12.0"
  }
 },
 "nbformat": 4,
 "nbformat_minor": 2
}
