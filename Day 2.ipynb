{
 "cells": [
  {
   "cell_type": "code",
   "execution_count": 2,
   "id": "e10d7401-db98-44cd-864c-0dcf7219cc81",
   "metadata": {},
   "outputs": [
    {
     "name": "stdout",
     "output_type": "stream",
     "text": [
      "{'name': 'ram', 'address': 'ktm', 'contact': '9843434343', 'email': 'a@gmail.com'}\n"
     ]
    }
   ],
   "source": [
    "#dictionary\n",
    "\n",
    "person = {\n",
    "    \"name\" : \"ram\",\n",
    "    \"address\" : \"ktm\",\n",
    "    \"contact\" : \"9843434343\",\n",
    "    \"email\" : \"a@gmail.com\"\n",
    "}\n",
    "print(person)\n"
   ]
  },
  {
   "cell_type": "code",
   "execution_count": null,
   "id": "0b7a65a3-d5a8-40ba-ba74-13a7d19ebc28",
   "metadata": {},
   "outputs": [],
   "source": [
    "name = \"Ram\"\n",
    "print(f\"my name is {name}\")  #f>>> string interpolation"
   ]
  },
  {
   "cell_type": "code",
   "execution_count": null,
   "id": "bd1f9778-ff38-48e0-9230-da26b1d9ea3b",
   "metadata": {},
   "outputs": [],
   "source": []
  },
  {
   "cell_type": "code",
   "execution_count": 3,
   "id": "64a150f5-1762-4bf9-9f0a-3ecf24b30121",
   "metadata": {},
   "outputs": [
    {
     "name": "stdin",
     "output_type": "stream",
     "text": [
      "Enter your name: Ram\n"
     ]
    },
    {
     "name": "stdout",
     "output_type": "stream",
     "text": [
      "my name is Ram\n"
     ]
    }
   ],
   "source": [
    "name = input(\"Enter your name:\")\n",
    "print(f\"my name is {name}\")  #f>>> string interpolation"
   ]
  },
  {
   "cell_type": "code",
   "execution_count": 11,
   "id": "7db6a98a-4b8a-48a8-b9b2-6f3de60ca87f",
   "metadata": {},
   "outputs": [
    {
     "ename": "SyntaxError",
     "evalue": "unterminated f-string literal (detected at line 6) (3011615183.py, line 6)",
     "output_type": "error",
     "traceback": [
      "\u001b[1;36m  Cell \u001b[1;32mIn[11], line 6\u001b[1;36m\u001b[0m\n\u001b[1;33m    print(f\"sum of {ask1} and {ask2} is {sum})\u001b[0m\n\u001b[1;37m          ^\u001b[0m\n\u001b[1;31mSyntaxError\u001b[0m\u001b[1;31m:\u001b[0m unterminated f-string literal (detected at line 6)\n"
     ]
    }
   ],
   "source": [
    "ask1 = input(\"enter 1st number\")\n",
    "ask2 = input(\"enter 2nd number\")\n",
    "\n",
    "sum = ask1 + ask2\n",
    "\n",
    "print(f\"sum of {ask1} and {ask2} is {sum})"
   ]
  },
  {
   "cell_type": "code",
   "execution_count": 16,
   "id": "b743f484-ab2f-4d08-aacb-54dcd4d9a47b",
   "metadata": {},
   "outputs": [
    {
     "name": "stdin",
     "output_type": "stream",
     "text": [
      "enter first number: 3\n",
      "enter second number: 4\n"
     ]
    },
    {
     "name": "stdout",
     "output_type": "stream",
     "text": [
      "The sum of 3 and 4 is 34\n"
     ]
    }
   ],
   "source": [
    "num1 = input(\"enter first number:\")\n",
    "num2 = input(\"enter second number:\")\n",
    "\n",
    "sum = num1 + num2\n",
    "\n",
    "print(f\"The sum of {num1} and {num2} is {sum})\n",
    "\n",
    "#the result of this is called concatenation"
   ]
  },
  {
   "cell_type": "code",
   "execution_count": 14,
   "id": "052a662b-9481-4310-b926-c6a7609edd18",
   "metadata": {},
   "outputs": [],
   "source": [
    "del print  #sometimes print stores a different value acting like a variable. Do this if the print becomes uncallable"
   ]
  },
  {
   "cell_type": "code",
   "execution_count": 17,
   "id": "1d4a8ec6-f057-4570-be79-ca3c5c70fe9f",
   "metadata": {},
   "outputs": [
    {
     "name": "stdout",
     "output_type": "stream",
     "text": [
      "rambahadur\n"
     ]
    }
   ],
   "source": [
    "x = 'ram'     #string concatenation\n",
    "y = 'bahadur'\n",
    "print(x+y)"
   ]
  },
  {
   "cell_type": "code",
   "execution_count": 18,
   "id": "adc40d39-30aa-459b-aa24-bfedb9702be6",
   "metadata": {},
   "outputs": [
    {
     "name": "stdout",
     "output_type": "stream",
     "text": [
      "1\n",
      "<class 'int'>\n"
     ]
    }
   ],
   "source": [
    "x = 1\n",
    "print(x)\n",
    "print(type(x))"
   ]
  },
  {
   "cell_type": "code",
   "execution_count": 21,
   "id": "a17a7d15-a9f0-4dbc-8dca-085e0b9742d5",
   "metadata": {},
   "outputs": [
    {
     "name": "stdin",
     "output_type": "stream",
     "text": [
      "enter first number: 1\n",
      "enter second number: 2\n"
     ]
    },
    {
     "name": "stdout",
     "output_type": "stream",
     "text": [
      "The sum of 1 and 2 is 3\n"
     ]
    }
   ],
   "source": [
    "num1 = int(input(\"enter first number:\"))\n",
    "num2 = int(input(\"enter second number:\"))\n",
    "\n",
    "sum = num1 + num2\n",
    "\n",
    "print(f\"The sum of {num1} and {num2} is {sum}\")\n",
    "\n",
    "\n"
   ]
  },
  {
   "cell_type": "code",
   "execution_count": 23,
   "id": "420c2e14-d5bf-43db-8b42-0a05584ebda7",
   "metadata": {},
   "outputs": [
    {
     "name": "stdin",
     "output_type": "stream",
     "text": [
      "principle: 1000\n",
      "interest: 10\n",
      "time: 2\n"
     ]
    },
    {
     "name": "stdout",
     "output_type": "stream",
     "text": [
      "Ths simple interest is 200.0\n"
     ]
    }
   ],
   "source": [
    "x = int(input(\"principle:\"))\n",
    "y = int(input(\"interest:\"))\n",
    "z = int(input(\"time:\"))\n",
    "\n",
    "SI = (x * y * z) / 100\n",
    "\n",
    "print(f\"Ths simple interest is {SI}\")"
   ]
  },
  {
   "cell_type": "code",
   "execution_count": 24,
   "id": "31406e98-43fb-4456-8857-0a0884433900",
   "metadata": {},
   "outputs": [
    {
     "name": "stdin",
     "output_type": "stream",
     "text": [
      "principle: 1000\n",
      "interest: 10\n",
      "time: 2\n"
     ]
    },
    {
     "name": "stdout",
     "output_type": "stream",
     "text": [
      "Ths simple interest is 200.0\n"
     ]
    }
   ],
   "source": [
    "x = int(input(\"principle:\"))\n",
    "y = int(input(\"interest:\"))\n",
    "z = int(input(\"time:\"))\n",
    "\n",
    "SI = (x * y * z) / 100\n",
    "\n",
    "print(\"Ths simple interest is {}\".format(SI))  #format does the same thing as f but is the older version of it."
   ]
  },
  {
   "cell_type": "code",
   "execution_count": null,
   "id": "4a0ad5ec-9bc9-4b91-ab4b-673f1a1a2b27",
   "metadata": {},
   "outputs": [],
   "source": []
  }
 ],
 "metadata": {
  "kernelspec": {
   "display_name": "Python 3 (ipykernel)",
   "language": "python",
   "name": "python3"
  },
  "language_info": {
   "codemirror_mode": {
    "name": "ipython",
    "version": 3
   },
   "file_extension": ".py",
   "mimetype": "text/x-python",
   "name": "python",
   "nbconvert_exporter": "python",
   "pygments_lexer": "ipython3",
   "version": "3.12.0"
  }
 },
 "nbformat": 4,
 "nbformat_minor": 5
}
