{
 "cells": [
  {
   "cell_type": "code",
   "execution_count": 4,
   "metadata": {},
   "outputs": [],
   "source": [
    "f = open(\"hello.txt\",\"w\") #w bhaneko write ho\n",
    "f.write(\"Welcom to Course\") #f bhanne txt file ma Welcome to Course write garne.\n",
    "f.write(\"Welcome to Django\") \n",
    "f.close() #file open garechhi close nagari it won't save."
   ]
  },
  {
   "cell_type": "code",
   "execution_count": 5,
   "metadata": {},
   "outputs": [
    {
     "name": "stdout",
     "output_type": "stream",
     "text": [
      "Welcom to CourseWelcome to Django\n"
     ]
    }
   ],
   "source": [
    "#FIle Handling\n",
    "\n",
    "with open(\"hello.txt\",\"r\") as  f:\n",
    "    print(f.read())"
   ]
  },
  {
   "cell_type": "code",
   "execution_count": 9,
   "metadata": {},
   "outputs": [
    {
     "name": "stdout",
     "output_type": "stream",
     "text": [
      "Wel\n",
      "3\n",
      "com\n",
      "Wel\n",
      "com to CourseWelcome to Django\n",
      "\n",
      "\n",
      "\n",
      "\n",
      "\n",
      "Welcom to CourseWelcome to Django\n",
      "\n"
     ]
    }
   ],
   "source": [
    "with open(\"hello.txt\",\"r\") as f:\n",
    "    print(f.read(3))\n",
    "    print(f.tell())\n",
    "    print(f.read(3))\n",
    "    f.seek(0)\n",
    "    print(f.read(3))\n",
    "    print(f.readline())\n",
    "    print(f.readline())\n",
    "    print(f.readline())\n",
    "    print(f.readline())    #this function even prints the empty lines\n"
   ]
  },
  {
   "cell_type": "code",
   "execution_count": 17,
   "metadata": {},
   "outputs": [
    {
     "name": "stdout",
     "output_type": "stream",
     "text": [
      "{\n",
      "  \"name\": \"ram\",\n",
      "  \"age\": 22,\n",
      "  \"address\": \"ktm\",\n",
      "  \"skill\": [\n",
      "    \"python\",\n",
      "    \"django\",\n",
      "    \"machine learning\"\n",
      "  ],\n",
      "  \"contact\": null,\n",
      "  \"is_active\": true\n",
      "} <class 'str'>\n"
     ]
    }
   ],
   "source": [
    "import json\n",
    "\n",
    "\n",
    "person = {\n",
    "    \"name\": 'ram',\n",
    "    \"age\" : 22,\n",
    "    \"address\" : 'ktm',\n",
    "    \"skill\" : [\"python\", \"django\", \"machine learning\"],\n",
    "    \"contact\" : None,\n",
    "    \"is_active\": True\n",
    "} #comma chainchha at the end of each line except the last line where there should never be comma.\n",
    "\n",
    "person_json = json.dumps(person, indent = 2)\n",
    "\n",
    "print(person_json, type(person_json))\n",
    "\n",
    "#this whole block is called json strings."
   ]
  },
  {
   "cell_type": "code",
   "execution_count": 24,
   "metadata": {},
   "outputs": [
    {
     "name": "stdout",
     "output_type": "stream",
     "text": [
      "{'name': 'ram', 'age': 22, 'address': 'ktm', 'skill': ['python', 'django', 'machine learning'], 'contact': None, 'is_active': True} <class 'dict'>\n"
     ]
    }
   ],
   "source": [
    "import json\n",
    "\n",
    "json_string = \"\"\"\n",
    "{\n",
    "    \"name\": \"ram\",\n",
    "    \"age\" : 22,\n",
    "    \"address\" : \"ktm\",\n",
    "    \"skill\" : [\"python\", \"django\", \"machine learning\"],\n",
    "    \"contact\" : null,\n",
    "    \"is_active\": true\n",
    "}\n",
    "\"\"\" \n",
    "\n",
    "# Load the JSON string into a dictionary\n",
    "person_dict = json.loads(json_string)\n",
    "\n",
    "print(person_dict, type(person_dict))\n"
   ]
  },
  {
   "cell_type": "code",
   "execution_count": 26,
   "metadata": {},
   "outputs": [],
   "source": [
    "import json \n",
    "\n",
    "person = {\n",
    "    \"name\": \"ram\",\n",
    "    \"age\" : 22,\n",
    "    \"address\" : \"ktm\",\n",
    "    \"skill\" : [\"python\", \"django\", \"machine learning\"],\n",
    "    \"contact\" : None,\n",
    "    \"is_active\": True\n",
    "}\n",
    "\n",
    "with open (\"person.json\", 'w') as f:\n",
    "    data = json.dump(person, f,indent = 4)\n",
    "    #f.write(data)"
   ]
  },
  {
   "cell_type": "code",
   "execution_count": 1,
   "metadata": {},
   "outputs": [
    {
     "name": "stdout",
     "output_type": "stream",
     "text": [
      "{'name': 'ram', 'age': 22, 'address': 'ktm', 'skill': ['python', 'django', 'machine learning'], 'contact': None, 'is_active': True} <class 'dict'>\n"
     ]
    }
   ],
   "source": [
    "import json\n",
    "\n",
    "with open(\"person.json\") as f:\n",
    "    data = f.read()\n",
    "    person_dict = json.loads(data)\n",
    "    print(person_dict,type(person_dict))"
   ]
  },
  {
   "cell_type": "code",
   "execution_count": null,
   "metadata": {},
   "outputs": [],
   "source": [
    "#csv ko laagi csv bhanne model hunchha teslai import garne. \"csv.reader\" use garne\n",
    "\n"
   ]
  }
 ],
 "metadata": {
  "kernelspec": {
   "display_name": "Python 3",
   "language": "python",
   "name": "python3"
  },
  "language_info": {
   "codemirror_mode": {
    "name": "ipython",
    "version": 3
   },
   "file_extension": ".py",
   "mimetype": "text/x-python",
   "name": "python",
   "nbconvert_exporter": "python",
   "pygments_lexer": "ipython3",
   "version": "3.12.0"
  }
 },
 "nbformat": 4,
 "nbformat_minor": 2
}
