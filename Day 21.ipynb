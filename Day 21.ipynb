{
 "cells": [
  {
   "cell_type": "code",
   "execution_count": 10,
   "metadata": {},
   "outputs": [],
   "source": [
    "import csv"
   ]
  },
  {
   "cell_type": "code",
   "execution_count": 11,
   "metadata": {},
   "outputs": [
    {
     "ename": "AttributeError",
     "evalue": "'_csv.writer' object has no attribute 'writerrow'",
     "output_type": "error",
     "traceback": [
      "\u001b[1;31m---------------------------------------------------------------------------\u001b[0m",
      "\u001b[1;31mAttributeError\u001b[0m                            Traceback (most recent call last)",
      "Cell \u001b[1;32mIn[11], line 5\u001b[0m\n\u001b[0;32m      3\u001b[0m \u001b[38;5;28;01mwith\u001b[39;00m \u001b[38;5;28mopen\u001b[39m(\u001b[38;5;124m\"\u001b[39m\u001b[38;5;124mstudent.csv\u001b[39m\u001b[38;5;124m\"\u001b[39m,\u001b[38;5;124m\"\u001b[39m\u001b[38;5;124mw\u001b[39m\u001b[38;5;124m\"\u001b[39m) \u001b[38;5;28;01mas\u001b[39;00m f:\n\u001b[0;32m      4\u001b[0m     writer \u001b[38;5;241m=\u001b[39m csv\u001b[38;5;241m.\u001b[39mwriter(f)  \n\u001b[1;32m----> 5\u001b[0m     \u001b[43mwriter\u001b[49m\u001b[38;5;241;43m.\u001b[39;49m\u001b[43mwriterrow\u001b[49m(student)\n",
      "\u001b[1;31mAttributeError\u001b[0m: '_csv.writer' object has no attribute 'writerrow'"
     ]
    }
   ],
   "source": [
    "student = (\"Ramesh\", \"KTM\", 22)\n",
    "\n",
    "with open(\"student.csv\",\"w\") as f:\n",
    "    writer = csv.writer(f)  \n",
    "    writer.writerrow(student)"
   ]
  },
  {
   "cell_type": "code",
   "execution_count": 12,
   "metadata": {},
   "outputs": [],
   "source": [
    "students = [\n",
    "    (\"Name\",\"Address\",\"Age\"),\n",
    "    (\"Ram\",\"ktm\",24),\n",
    "    (\"Shyam\",\"Ltr\",21),\n",
    "    (\"Sita\",\"Pkr\",21),\n",
    "    (\"Gita\",\"Ktm\",22)\n",
    "]\n",
    "\n",
    "\n",
    "with open('student.csv','w') as f:\n",
    "    writer = csv.writer(f)\n",
    "    for student in students:\n",
    "        writer.writerow(student) #single write"
   ]
  },
  {
   "cell_type": "code",
   "execution_count": 13,
   "metadata": {},
   "outputs": [
    {
     "ename": "SyntaxError",
     "evalue": "invalid syntax (2833291852.py, line 4)",
     "output_type": "error",
     "traceback": [
      "\u001b[1;36m  Cell \u001b[1;32mIn[13], line 4\u001b[1;36m\u001b[0m\n\u001b[1;33m    {(\"Name\": \"Ram\",\"Address\":Ktm,\"Age\":22),\u001b[0m\n\u001b[1;37m            ^\u001b[0m\n\u001b[1;31mSyntaxError\u001b[0m\u001b[1;31m:\u001b[0m invalid syntax\n"
     ]
    }
   ],
   "source": [
    "import csv\n",
    "\n",
    "students = [\n",
    "    {(\"Name\": \"Ram\",\"Address\":Ktm,\"Age\":22),\n",
    "    (\"Name\":\"Shyam\",\"Address\":\"Ltr\",21),\n",
    "    (\"Name\":\"Sita\",\"Address\":\"Pkr\",21),\n",
    "    (\"Name\":\"Gita\",\"Address\":\"Ktm\",22)}\n",
    "]\n",
    "\n",
    "with open(\"students.csv\",\"w\") as f:\n",
    "    writer = csv.DictWriter(f, fieldnames = students[0].keys())\n",
    "    writer.writeheader()\n",
    "    writer.writerows(students)"
   ]
  },
  {
   "cell_type": "markdown",
   "metadata": {},
   "source": [
    "ADVANCED PYTHON"
   ]
  },
  {
   "cell_type": "code",
   "execution_count": 14,
   "metadata": {},
   "outputs": [
    {
     "data": {
      "text/plain": [
       "[1, 2, 3, 4, 5, 6, 7, 8, 9, 10]"
      ]
     },
     "execution_count": 14,
     "metadata": {},
     "output_type": "execute_result"
    }
   ],
   "source": [
    "#n = 100\n",
    "\n",
    "def natural_numbers(n):\n",
    "    numbers = []\n",
    "    for i in range(1,n+1):\n",
    "        numbers.append(i)\n",
    "    return numbers\n",
    "\n",
    "\n",
    "natural_numbers(10)"
   ]
  },
  {
   "cell_type": "code",
   "execution_count": null,
   "metadata": {},
   "outputs": [],
   "source": [
    "def hello_fun(a,b):\n",
    "    x = a +b\n",
    "    return x\n",
    "    y = a - b\n",
    "    return y\n"
   ]
  },
  {
   "cell_type": "code",
   "execution_count": 15,
   "metadata": {},
   "outputs": [
    {
     "data": {
      "text/plain": [
       "7"
      ]
     },
     "execution_count": 15,
     "metadata": {},
     "output_type": "execute_result"
    }
   ],
   "source": [
    "def hello_fun(a,b):\n",
    "    x = a +b\n",
    "    yield x\n",
    "    y = a - b\n",
    "    yield y\n",
    "\n",
    "g = hello_fun(4,3)\n",
    "\n",
    "\n",
    "next(g)\n",
    "\n",
    "\n",
    "#generator"
   ]
  },
  {
   "cell_type": "code",
   "execution_count": 16,
   "metadata": {},
   "outputs": [
    {
     "data": {
      "text/plain": [
       "1"
      ]
     },
     "execution_count": 16,
     "metadata": {},
     "output_type": "execute_result"
    }
   ],
   "source": [
    "next(g)"
   ]
  },
  {
   "cell_type": "code",
   "execution_count": 17,
   "metadata": {},
   "outputs": [],
   "source": [
    "for i in g:\n",
    "    print(i)"
   ]
  },
  {
   "cell_type": "code",
   "execution_count": 19,
   "metadata": {},
   "outputs": [
    {
     "data": {
      "text/plain": [
       "[7, 1]"
      ]
     },
     "execution_count": 19,
     "metadata": {},
     "output_type": "execute_result"
    }
   ],
   "source": [
    "g = hello_fun(4,3)\n",
    "\n",
    "list(g)"
   ]
  },
  {
   "cell_type": "code",
   "execution_count": 20,
   "metadata": {},
   "outputs": [
    {
     "data": {
      "text/plain": [
       "range(1, 10)"
      ]
     },
     "execution_count": 20,
     "metadata": {},
     "output_type": "execute_result"
    }
   ],
   "source": [
    "range(1,10)"
   ]
  },
  {
   "cell_type": "code",
   "execution_count": 21,
   "metadata": {},
   "outputs": [
    {
     "data": {
      "text/plain": [
       "[1, 2, 3, 4, 5, 6, 7, 8, 9]"
      ]
     },
     "execution_count": 21,
     "metadata": {},
     "output_type": "execute_result"
    }
   ],
   "source": [
    "list(range(1,10))"
   ]
  },
  {
   "cell_type": "code",
   "execution_count": null,
   "metadata": {},
   "outputs": [],
   "source": []
  }
 ],
 "metadata": {
  "kernelspec": {
   "display_name": "Python 3",
   "language": "python",
   "name": "python3"
  },
  "language_info": {
   "codemirror_mode": {
    "name": "ipython",
    "version": 3
   },
   "file_extension": ".py",
   "mimetype": "text/x-python",
   "name": "python",
   "nbconvert_exporter": "python",
   "pygments_lexer": "ipython3",
   "version": "3.12.0"
  }
 },
 "nbformat": 4,
 "nbformat_minor": 2
}
