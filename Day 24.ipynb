{
 "cells": [
  {
   "cell_type": "code",
   "execution_count": 9,
   "metadata": {},
   "outputs": [],
   "source": [
    "from time import perf_counter"
   ]
  },
  {
   "cell_type": "markdown",
   "metadata": {},
   "source": [
    "def value_multiply(n):\n",
    "    start = perf_counter() #calculates time taken to run the function\n",
    "    mul= 1\n",
    "    for i in range(1, n+1):\n",
    "        mul *= i\n",
    "    end = perf_counter()\n",
    "    print(f\"Time taken to complete is {end - start}\")\n",
    "    \n",
    "    "
   ]
  },
  {
   "cell_type": "code",
   "execution_count": null,
   "metadata": {},
   "outputs": [],
   "source": [
    "#make and add a decorator called timer to show time rather than integrate it inside the user defined function"
   ]
  },
  {
   "cell_type": "code",
   "execution_count": 27,
   "metadata": {},
   "outputs": [],
   "source": [
    "def timer(fn):\n",
    "    def inner(*args,**kwargs):\n",
    "        start = perf_counter()\n",
    "        x= fn(*args, **kwargs)\n",
    "        stop = perf_counter()\n",
    "        print(f\"Time taken to complete is {stop - start}\")\n",
    "    return inner"
   ]
  },
  {
   "cell_type": "code",
   "execution_count": 28,
   "metadata": {},
   "outputs": [],
   "source": [
    "@timer\n",
    "def value_multiply(n):\n",
    "    mul= 1\n",
    "    for i in range(1, n+1):\n",
    "        mul *= i\n",
    "   "
   ]
  },
  {
   "cell_type": "code",
   "execution_count": 29,
   "metadata": {},
   "outputs": [
    {
     "name": "stdout",
     "output_type": "stream",
     "text": [
      "Time taken to complete is 0.04304080014117062\n"
     ]
    }
   ],
   "source": [
    "value_multiply(10000)"
   ]
  },
  {
   "cell_type": "code",
   "execution_count": 39,
   "metadata": {},
   "outputs": [
    {
     "name": "stdout",
     "output_type": "stream",
     "text": [
      "[1, 4, 9, 16, 25]\n"
     ]
    }
   ],
   "source": [
    "ls = [1,2,3,4,5]\n",
    "\n",
    "#non pythonic code\n",
    "squares = []\n",
    "\n",
    "for i in ls:\n",
    "    squares.append(i ** 2)\n",
    "\n",
    "print(squares)\n"
   ]
  },
  {
   "cell_type": "code",
   "execution_count": 38,
   "metadata": {},
   "outputs": [
    {
     "name": "stdout",
     "output_type": "stream",
     "text": [
      "[1, 4, 9, 16, 25]\n"
     ]
    }
   ],
   "source": [
    "ls = [1,2,3,4,5]\n",
    "squares = [i ** 2 for i in ls]\n",
    "print(squares)\n",
    "\n",
    "#faster than the loop ones\n",
    "#list comprehension\n",
    "\n"
   ]
  },
  {
   "cell_type": "code",
   "execution_count": 41,
   "metadata": {},
   "outputs": [
    {
     "name": "stdout",
     "output_type": "stream",
     "text": [
      "Unauthorized\n"
     ]
    }
   ],
   "source": [
    "age = 17\n",
    "\n",
    "#termary operator\n",
    "authorized = \"Unauthorized\" if age < 18 else \"Authorized\"\n",
    "\n",
    "print(authorized)"
   ]
  },
  {
   "cell_type": "code",
   "execution_count": 52,
   "metadata": {},
   "outputs": [
    {
     "name": "stdout",
     "output_type": "stream",
     "text": [
      "['odd', 'odd', 'even', 'odd', 'even', 'even', 'even']\n"
     ]
    }
   ],
   "source": [
    "numbers = [1,23,4,3,4,2,2]\n",
    "\n",
    "output = [ \"even\" if number % 2 == 0 else \"odd\" for number in numbers]\n",
    "\n",
    "print(output)"
   ]
  },
  {
   "cell_type": "code",
   "execution_count": 56,
   "metadata": {},
   "outputs": [
    {
     "name": "stdout",
     "output_type": "stream",
     "text": [
      "[3, 1, 3, 4, 5, 6, 8, 10]\n"
     ]
    }
   ],
   "source": [
    "numbers = [ -8, -7, 3, -1, 0, 1 ,3, 4, 5,-7, 6,8,10]\n",
    "\n",
    "#output = [3,1,3,4,5,6,8,10]\n",
    "\n",
    "\n",
    "output = [number for number in numbers if number > 0] #if matra lagaune ho bhane teti khera ko syntax\n",
    "print(output)"
   ]
  },
  {
   "cell_type": "code",
   "execution_count": 58,
   "metadata": {},
   "outputs": [
    {
     "name": "stdout",
     "output_type": "stream",
     "text": [
      "{'milk': 268.5705, 'bread': 340.626, 'butter': 340.626}\n"
     ]
    }
   ],
   "source": [
    "us_price = {'milk': 2.05, \"bread\": 2.6, \"butter\":2.6}\n",
    "nep_price = {product: price * 131.01 for product,price in us_price.items()}\n",
    "print(nep_price)"
   ]
  },
  {
   "cell_type": "code",
   "execution_count": null,
   "metadata": {},
   "outputs": [],
   "source": []
  }
 ],
 "metadata": {
  "kernelspec": {
   "display_name": "Python 3",
   "language": "python",
   "name": "python3"
  },
  "language_info": {
   "codemirror_mode": {
    "name": "ipython",
    "version": 3
   },
   "file_extension": ".py",
   "mimetype": "text/x-python",
   "name": "python",
   "nbconvert_exporter": "python",
   "pygments_lexer": "ipython3",
   "version": "3.12.0"
  }
 },
 "nbformat": 4,
 "nbformat_minor": 2
}
