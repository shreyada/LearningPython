{
 "cells": [
  {
   "cell_type": "code",
   "execution_count": null,
   "id": "a9ac6c28-7536-4a2d-b793-2b55d8e41640",
   "metadata": {},
   "outputs": [],
   "source": [
    "#operators"
   ]
  },
  {
   "cell_type": "code",
   "execution_count": 1,
   "id": "163854a8-daf2-4030-a24b-a6b89fbe1fde",
   "metadata": {},
   "outputs": [
    {
     "data": {
      "text/plain": [
       "1"
      ]
     },
     "execution_count": 1,
     "metadata": {},
     "output_type": "execute_result"
    }
   ],
   "source": [
    "#remainder operator\n",
    "5 % 2"
   ]
  },
  {
   "cell_type": "code",
   "execution_count": 2,
   "id": "80e29f6c-037b-41b8-b3b5-094fbf3f5990",
   "metadata": {},
   "outputs": [
    {
     "data": {
      "text/plain": [
       "2.5"
      ]
     },
     "execution_count": 2,
     "metadata": {},
     "output_type": "execute_result"
    }
   ],
   "source": [
    "#division\n",
    "5/2"
   ]
  },
  {
   "cell_type": "code",
   "execution_count": 3,
   "id": "74b27127-8faa-4adf-bee5-686942e67c52",
   "metadata": {},
   "outputs": [
    {
     "data": {
      "text/plain": [
       "2"
      ]
     },
     "execution_count": 3,
     "metadata": {},
     "output_type": "execute_result"
    }
   ],
   "source": [
    "#floor division. (if there is a float result then only showing the integer result\n",
    "5 // 2"
   ]
  },
  {
   "cell_type": "code",
   "execution_count": 4,
   "id": "1990df9e-2b13-4eb1-ad0b-820c602edc29",
   "metadata": {},
   "outputs": [
    {
     "data": {
      "text/plain": [
       "8"
      ]
     },
     "execution_count": 4,
     "metadata": {},
     "output_type": "execute_result"
    }
   ],
   "source": [
    "#multiplication\n",
    "2 * 2 * 2"
   ]
  },
  {
   "cell_type": "code",
   "execution_count": 5,
   "id": "0bfaf7d5-1f71-49b6-9605-db184704fde7",
   "metadata": {},
   "outputs": [
    {
     "data": {
      "text/plain": [
       "8"
      ]
     },
     "execution_count": 5,
     "metadata": {},
     "output_type": "execute_result"
    }
   ],
   "source": [
    "#exponent/ power operator\n",
    "2 ** 3"
   ]
  },
  {
   "cell_type": "code",
   "execution_count": 7,
   "id": "e3dfc442-be88-4db1-a63d-4a2b6c6b0d65",
   "metadata": {},
   "outputs": [
    {
     "name": "stdout",
     "output_type": "stream",
     "text": [
      "True\n",
      "False\n"
     ]
    }
   ],
   "source": [
    "#comparison operator/ relational operator\n",
    "x = 5\n",
    "y = 2\n",
    "print(x > y)\n",
    "print(x < y)"
   ]
  },
  {
   "cell_type": "code",
   "execution_count": 8,
   "id": "83977086-2838-4c46-b809-d3eab8146aaf",
   "metadata": {},
   "outputs": [
    {
     "data": {
      "text/plain": [
       "False"
      ]
     },
     "execution_count": 8,
     "metadata": {},
     "output_type": "execute_result"
    }
   ],
   "source": [
    "#is x equal to y?\n",
    "x == y"
   ]
  },
  {
   "cell_type": "code",
   "execution_count": null,
   "id": "f8459f3c-1433-4e28-8f7d-23777dd8d1ef",
   "metadata": {},
   "outputs": [],
   "source": [
    "#<> is a boolean operator, true/false is also boolean."
   ]
  },
  {
   "cell_type": "code",
   "execution_count": 9,
   "id": "fe49580c-8c0a-4fcc-92c1-56451ddf8a86",
   "metadata": {},
   "outputs": [
    {
     "data": {
      "text/plain": [
       "True"
      ]
     },
     "execution_count": 9,
     "metadata": {},
     "output_type": "execute_result"
    }
   ],
   "source": [
    "#not equal to\n",
    "x != y"
   ]
  },
  {
   "cell_type": "code",
   "execution_count": 10,
   "id": "e9e2c5de-f6bf-495a-81c5-9f1b0cf62135",
   "metadata": {},
   "outputs": [
    {
     "data": {
      "text/plain": [
       "True"
      ]
     },
     "execution_count": 10,
     "metadata": {},
     "output_type": "execute_result"
    }
   ],
   "source": [
    "#greater than or equal and less than or equal will give true or false if the values satisfy any one condition\n",
    "x >= y\n"
   ]
  },
  {
   "cell_type": "code",
   "execution_count": 11,
   "id": "70e509e0-1ee7-4dac-a8b3-e487e00732ef",
   "metadata": {},
   "outputs": [
    {
     "data": {
      "text/plain": [
       "False"
      ]
     },
     "execution_count": 11,
     "metadata": {},
     "output_type": "execute_result"
    }
   ],
   "source": [
    "x <= y"
   ]
  },
  {
   "cell_type": "code",
   "execution_count": 12,
   "id": "fe8709a5-6945-4790-ac70-8ce8b4918341",
   "metadata": {},
   "outputs": [
    {
     "name": "stdout",
     "output_type": "stream",
     "text": [
      "8\n"
     ]
    }
   ],
   "source": [
    "name = 'shreyada'\n",
    "print(len(name))"
   ]
  },
  {
   "cell_type": "code",
   "execution_count": 13,
   "id": "9b78652e-b0b9-4d95-8856-4abba8d79263",
   "metadata": {},
   "outputs": [
    {
     "name": "stdout",
     "output_type": "stream",
     "text": [
      "False\n"
     ]
    }
   ],
   "source": [
    "print(len('python') > len('coding'))"
   ]
  },
  {
   "cell_type": "code",
   "execution_count": null,
   "id": "89275a1b-29ea-4da3-9df0-1919bc817105",
   "metadata": {},
   "outputs": [],
   "source": [
    "#Logical or Boolean operatar\n",
    "# and => all value True => True\n",
    "#or => any 1 value True => True\n",
    "#not => opposite value"
   ]
  },
  {
   "cell_type": "code",
   "execution_count": 14,
   "id": "215a95a6-13e0-4f8f-9c58-e620484e323f",
   "metadata": {},
   "outputs": [
    {
     "data": {
      "text/plain": [
       "True"
      ]
     },
     "execution_count": 14,
     "metadata": {},
     "output_type": "execute_result"
    }
   ],
   "source": [
    "True and True and True #if you add a false in the middle of it theresult will be false"
   ]
  },
  {
   "cell_type": "code",
   "execution_count": 15,
   "id": "152b608d-5884-4fbb-bc7a-40a8103914de",
   "metadata": {},
   "outputs": [
    {
     "data": {
      "text/plain": [
       "False"
      ]
     },
     "execution_count": 15,
     "metadata": {},
     "output_type": "execute_result"
    }
   ],
   "source": [
    "True and False and True"
   ]
  },
  {
   "cell_type": "code",
   "execution_count": 16,
   "id": "70dd1ed2-0931-4f51-aaeb-0cc2fc68085c",
   "metadata": {},
   "outputs": [
    {
     "data": {
      "text/plain": [
       "True"
      ]
     },
     "execution_count": 16,
     "metadata": {},
     "output_type": "execute_result"
    }
   ],
   "source": [
    "True or Fals or True"
   ]
  },
  {
   "cell_type": "code",
   "execution_count": 17,
   "id": "281ceaba-a08d-4b51-8c71-124913ccd099",
   "metadata": {},
   "outputs": [
    {
     "data": {
      "text/plain": [
       "False"
      ]
     },
     "execution_count": 17,
     "metadata": {},
     "output_type": "execute_result"
    }
   ],
   "source": [
    "not True"
   ]
  },
  {
   "cell_type": "code",
   "execution_count": 18,
   "id": "f922c18c-ab98-41be-91c6-c2351c187765",
   "metadata": {},
   "outputs": [
    {
     "data": {
      "text/plain": [
       "False"
      ]
     },
     "execution_count": 18,
     "metadata": {},
     "output_type": "execute_result"
    }
   ],
   "source": [
    "False or True and False  #priority to and > or > not"
   ]
  },
  {
   "cell_type": "code",
   "execution_count": 19,
   "id": "bd24168a-94d8-42e8-93c4-58d8c0d33893",
   "metadata": {},
   "outputs": [
    {
     "data": {
      "text/plain": [
       "False"
      ]
     },
     "execution_count": 19,
     "metadata": {},
     "output_type": "execute_result"
    }
   ],
   "source": [
    "True and (not (not False)) or (True and (not True))"
   ]
  },
  {
   "cell_type": "code",
   "execution_count": null,
   "id": "e8d8f165-722c-41a9-9d24-f8cd10fe1746",
   "metadata": {},
   "outputs": [],
   "source": [
    "#bitwise operator\n",
    "\n",
    "#and \n",
    "#a = 2 = 0010\n",
    "#b = 3 = 0011\n",
    "#============\n",
    "        #0010 => 2"
   ]
  },
  {
   "cell_type": "code",
   "execution_count": 20,
   "id": "3635d2ee-0985-430f-abfa-da5335e0fa32",
   "metadata": {},
   "outputs": [
    {
     "data": {
      "text/plain": [
       "2"
      ]
     },
     "execution_count": 20,
     "metadata": {},
     "output_type": "execute_result"
    }
   ],
   "source": [
    "a = 2\n",
    "b = 3\n",
    "\n",
    "a & b"
   ]
  },
  {
   "cell_type": "code",
   "execution_count": 21,
   "id": "370c8d94-70dc-464b-b0c1-0059ef1275ac",
   "metadata": {},
   "outputs": [
    {
     "data": {
      "text/plain": [
       "3"
      ]
     },
     "execution_count": 21,
     "metadata": {},
     "output_type": "execute_result"
    }
   ],
   "source": [
    "#or\n",
    "#a = 2 = 0010\n",
    "#b = 3 = 0011\n",
    "#============\n",
    "        #0011 => 3\n",
    "\n",
    "a =2\n",
    "b = 3\n",
    "a | b\n"
   ]
  },
  {
   "cell_type": "code",
   "execution_count": 23,
   "id": "570dc53c-4360-4eea-b481-703e99023b79",
   "metadata": {},
   "outputs": [
    {
     "name": "stdout",
     "output_type": "stream",
     "text": [
      "2\n"
     ]
    }
   ],
   "source": [
    "#assignment operator. value assigning\n",
    "x = 1\n",
    "x = x + 1\n",
    "print(x)\n"
   ]
  },
  {
   "cell_type": "code",
   "execution_count": 26,
   "id": "64d95182-31ab-4172-a901-85bbb8483192",
   "metadata": {},
   "outputs": [
    {
     "name": "stdout",
     "output_type": "stream",
     "text": [
      "6\n"
     ]
    }
   ],
   "source": [
    "x = 1\n",
    "x += 5  #it is the same as line 23\n",
    "print(x)"
   ]
  },
  {
   "cell_type": "code",
   "execution_count": 29,
   "id": "2d1739af-2802-4219-8037-aea4714a2180",
   "metadata": {},
   "outputs": [
    {
     "name": "stdout",
     "output_type": "stream",
     "text": [
      "True\n",
      "True\n",
      "140717107235384\n"
     ]
    }
   ],
   "source": [
    "#identity operator\n",
    "x = 5\n",
    "y = 5\n",
    "print(x == y) #value  of the variables\n",
    "print( x is y) #memory address\n",
    "\n",
    "print(id(x))\n"
   ]
  },
  {
   "cell_type": "code",
   "execution_count": 30,
   "id": "afeeb738-9248-480a-8acb-48b1c2f011ae",
   "metadata": {},
   "outputs": [
    {
     "name": "stdout",
     "output_type": "stream",
     "text": [
      "False\n"
     ]
    }
   ],
   "source": [
    "#python by default assigns memory address from digits 0 -256. any other assigning will be given unique memory address\n",
    "\n",
    "x = 500 \n",
    "y = 500\n",
    "print(x is y)\n",
    "#here the 500 is assigned to different memory address since it is a larger value than 256."
   ]
  },
  {
   "cell_type": "code",
   "execution_count": 31,
   "id": "fc81e72a-9d22-4501-a6db-972325d931ad",
   "metadata": {},
   "outputs": [
    {
     "name": "stdout",
     "output_type": "stream",
     "text": [
      "True\n"
     ]
    }
   ],
   "source": [
    "x = 200\n",
    "y = 200\n",
    "print(x is y)\n",
    "#but this is already by default assigned to a certain memory address by python, hence the result comes True."
   ]
  },
  {
   "cell_type": "code",
   "execution_count": 32,
   "id": "a01f2f50-1b0a-4efa-bb2c-8a661679ec5b",
   "metadata": {},
   "outputs": [
    {
     "name": "stdout",
     "output_type": "stream",
     "text": [
      "True\n"
     ]
    }
   ],
   "source": [
    "x = 100\n",
    "y = 200\n",
    "\n",
    "print(x is not y)"
   ]
  },
  {
   "cell_type": "code",
   "execution_count": 33,
   "id": "bffdd1ee-1422-462c-9de2-5ccb7be949a7",
   "metadata": {},
   "outputs": [
    {
     "data": {
      "text/plain": [
       "True"
      ]
     },
     "execution_count": 33,
     "metadata": {},
     "output_type": "execute_result"
    }
   ],
   "source": [
    "# in. Membership operator\n",
    "\n",
    "'r' in 'shreyada'"
   ]
  },
  {
   "cell_type": "code",
   "execution_count": 34,
   "id": "878d559a-4ede-4900-a542-19aa35c22c45",
   "metadata": {},
   "outputs": [
    {
     "data": {
      "text/plain": [
       "False"
      ]
     },
     "execution_count": 34,
     "metadata": {},
     "output_type": "execute_result"
    }
   ],
   "source": [
    "'R' in 'shreyada' #python is case sensitive"
   ]
  },
  {
   "cell_type": "code",
   "execution_count": 35,
   "id": "db3ee64e-c74d-457c-b1ce-9445fc998028",
   "metadata": {},
   "outputs": [
    {
     "data": {
      "text/plain": [
       "False"
      ]
     },
     "execution_count": 35,
     "metadata": {},
     "output_type": "execute_result"
    }
   ],
   "source": [
    "'rs' in 'shreyada'"
   ]
  },
  {
   "cell_type": "code",
   "execution_count": 36,
   "id": "c159a431-2255-4289-b6fe-2a6b495e3b55",
   "metadata": {},
   "outputs": [
    {
     "data": {
      "text/plain": [
       "True"
      ]
     },
     "execution_count": 36,
     "metadata": {},
     "output_type": "execute_result"
    }
   ],
   "source": [
    "'rs' not in 'shreyada'"
   ]
  },
  {
   "cell_type": "code",
   "execution_count": 37,
   "id": "1aa760ba-bc2d-45d9-acf3-c133db70ba96",
   "metadata": {},
   "outputs": [
    {
     "data": {
      "text/plain": [
       "True"
      ]
     },
     "execution_count": 37,
     "metadata": {},
     "output_type": "execute_result"
    }
   ],
   "source": [
    "1 in [78,79,1,111,100]"
   ]
  },
  {
   "cell_type": "code",
   "execution_count": 38,
   "id": "aff4cc1c-b603-45ca-963c-a7608cf4961d",
   "metadata": {},
   "outputs": [
    {
     "name": "stdout",
     "output_type": "stream",
     "text": [
      "0.12345678901234568\n"
     ]
    }
   ],
   "source": [
    "#total of only 17 number after decimal can be printed\n",
    "\n",
    "b = 0.1234567890123456789\n",
    "print(b)"
   ]
  },
  {
   "cell_type": "code",
   "execution_count": 40,
   "id": "958c838b-57ef-4c4a-9ca3-09e3666690c7",
   "metadata": {},
   "outputs": [
    {
     "data": {
      "text/plain": [
       "False"
      ]
     },
     "execution_count": 40,
     "metadata": {},
     "output_type": "execute_result"
    }
   ],
   "source": [
    "(1.1 + 2.2) == 3.3"
   ]
  },
  {
   "cell_type": "code",
   "execution_count": 41,
   "id": "2b2e83a5-8e11-4438-8250-c5a8ba7cbeec",
   "metadata": {},
   "outputs": [
    {
     "data": {
      "text/plain": [
       "3.3000000000000003"
      ]
     },
     "execution_count": 41,
     "metadata": {},
     "output_type": "execute_result"
    }
   ],
   "source": [
    "#floats do not have precision, use decimals.\n",
    "\n",
    "#because\n",
    "\n",
    "1.1 + 2.2"
   ]
  },
  {
   "cell_type": "code",
   "execution_count": 50,
   "id": "aa661413-f476-4f86-b435-da9813c4398b",
   "metadata": {},
   "outputs": [
    {
     "name": "stdout",
     "output_type": "stream",
     "text": [
      "3.3\n"
     ]
    }
   ],
   "source": [
    "import decimal\n",
    "print(decimal.Decimal('1.1') + decimal.Decimal('2.2'))"
   ]
  },
  {
   "cell_type": "code",
   "execution_count": 51,
   "id": "f42d41be-b5cf-4fc6-83c3-523d3fe4e696",
   "metadata": {},
   "outputs": [
    {
     "name": "stdout",
     "output_type": "stream",
     "text": [
      "3.3\n"
     ]
    }
   ],
   "source": [
    "from decimal import Decimal\n",
    "print(Decimal('1.1') + Decimal('2.2'))"
   ]
  },
  {
   "cell_type": "code",
   "execution_count": 53,
   "id": "7d4a9d95-6bfb-4b48-b8bb-238968306185",
   "metadata": {},
   "outputs": [
    {
     "name": "stdout",
     "output_type": "stream",
     "text": [
      "3.3\n"
     ]
    }
   ],
   "source": [
    "from decimal import Decimal as d\n",
    "print(d('1.1') + d('2.2'))"
   ]
  }
 ],
 "metadata": {
  "kernelspec": {
   "display_name": "Python 3 (ipykernel)",
   "language": "python",
   "name": "python3"
  },
  "language_info": {
   "codemirror_mode": {
    "name": "ipython",
    "version": 3
   },
   "file_extension": ".py",
   "mimetype": "text/x-python",
   "name": "python",
   "nbconvert_exporter": "python",
   "pygments_lexer": "ipython3",
   "version": "3.12.0"
  }
 },
 "nbformat": 4,
 "nbformat_minor": 5
}
