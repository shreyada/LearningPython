{
 "cells": [
  {
   "cell_type": "code",
   "execution_count": 1,
   "metadata": {},
   "outputs": [
    {
     "name": "stdout",
     "output_type": "stream",
     "text": [
      "['apple', 'banana', 'mango', 'orange', 'hello']\n",
      "['apple', 'banana', 'mango', 'orange', 'hello']\n"
     ]
    }
   ],
   "source": [
    "x = ['apple', 'banana', 'mango','orange']\n",
    "y = x\n",
    "y.append('hello')\n",
    "\n",
    "print(x)\n",
    "print(y)"
   ]
  },
  {
   "cell_type": "code",
   "execution_count": 2,
   "metadata": {},
   "outputs": [
    {
     "name": "stdout",
     "output_type": "stream",
     "text": [
      "2042926180288 2042926180288\n"
     ]
    }
   ],
   "source": [
    "x = ['apple', 'banana', 'mango','orange']\n",
    "y = x\n",
    "print(id(x), id(y))"
   ]
  },
  {
   "cell_type": "code",
   "execution_count": 3,
   "metadata": {},
   "outputs": [
    {
     "name": "stdout",
     "output_type": "stream",
     "text": [
      "2042926185344 2042926185280\n"
     ]
    }
   ],
   "source": [
    "x = ['apple', 'banana', 'mango','orange']\n",
    "y = x.copy()\n",
    "#copy will take the value in the x and copies it and puts it in a different memory address\n",
    "\n",
    "print(id(x), id(y))"
   ]
  },
  {
   "cell_type": "code",
   "execution_count": 4,
   "metadata": {},
   "outputs": [
    {
     "name": "stdout",
     "output_type": "stream",
     "text": [
      "[1, 2, 3, 4, 5, 8, 9, 10]\n"
     ]
    }
   ],
   "source": [
    "x = [1,2,3,4,5]\n",
    "x.extend([8,9,10])\n",
    "print(x)\n",
    "\n",
    "#extend adds 8, 9, 10 to the list. only indexable values show results"
   ]
  },
  {
   "cell_type": "code",
   "execution_count": 5,
   "metadata": {},
   "outputs": [],
   "source": [
    "x = [1, 2, 3, 4, 5]\n",
    "\n",
    "x.append('ram')\n",
    "print(x)"
   ]
  },
  {
   "cell_type": "code",
   "execution_count": 6,
   "metadata": {},
   "outputs": [
    {
     "name": "stdout",
     "output_type": "stream",
     "text": [
      "[1, 2, 3, 4, 5, 'r', 'a', 'm']\n"
     ]
    }
   ],
   "source": [
    "x = [1, 2, 3, 4, 5]\n",
    "x.extend('ram')\n",
    "print(x)\n",
    "\n",
    "#extend prints one single letter from the word ram, and puts in the list above."
   ]
  },
  {
   "cell_type": "code",
   "execution_count": 7,
   "metadata": {},
   "outputs": [
    {
     "ename": "TypeError",
     "evalue": "'int' object is not iterable",
     "output_type": "error",
     "traceback": [
      "\u001b[1;31m---------------------------------------------------------------------------\u001b[0m",
      "\u001b[1;31mTypeError\u001b[0m                                 Traceback (most recent call last)",
      "Cell \u001b[1;32mIn[7], line 2\u001b[0m\n\u001b[0;32m      1\u001b[0m x \u001b[38;5;241m=\u001b[39m [\u001b[38;5;241m1\u001b[39m,\u001b[38;5;241m2\u001b[39m,\u001b[38;5;241m3\u001b[39m,\u001b[38;5;241m4\u001b[39m,\u001b[38;5;241m5\u001b[39m]\n\u001b[1;32m----> 2\u001b[0m \u001b[43mx\u001b[49m\u001b[38;5;241;43m.\u001b[39;49m\u001b[43mextend\u001b[49m\u001b[43m(\u001b[49m\u001b[38;5;241;43m1\u001b[39;49m\u001b[43m)\u001b[49m\n\u001b[0;32m      3\u001b[0m \u001b[38;5;28mprint\u001b[39m(x)\n",
      "\u001b[1;31mTypeError\u001b[0m: 'int' object is not iterable"
     ]
    }
   ],
   "source": [
    "x = [1,2,3,4,5]\n",
    "x.extend(1)\n",
    "print(x)"
   ]
  },
  {
   "cell_type": "code",
   "execution_count": 8,
   "metadata": {},
   "outputs": [
    {
     "data": {
      "text/plain": [
       "1"
      ]
     },
     "execution_count": 8,
     "metadata": {},
     "output_type": "execute_result"
    }
   ],
   "source": [
    "#index. Kun value kaha chha,\n",
    "x = [1,2,3,4,5]\n",
    "x.index(2)"
   ]
  },
  {
   "cell_type": "code",
   "execution_count": 9,
   "metadata": {},
   "outputs": [
    {
     "data": {
      "text/plain": [
       "1"
      ]
     },
     "execution_count": 9,
     "metadata": {},
     "output_type": "execute_result"
    }
   ],
   "source": [
    "x = [1,2,3,4,5,2]\n",
    "x.index(2)\n",
    "\n",
    "#previous index value j ho tei return garchha."
   ]
  },
  {
   "cell_type": "code",
   "execution_count": 10,
   "metadata": {},
   "outputs": [
    {
     "data": {
      "text/plain": [
       "5"
      ]
     },
     "execution_count": 10,
     "metadata": {},
     "output_type": "execute_result"
    }
   ],
   "source": [
    "x = [1,2,3,4,5,2]\n",
    "x.index(2,4)\n",
    "#will return index value with reference to 4 on the list."
   ]
  },
  {
   "cell_type": "code",
   "execution_count": 11,
   "metadata": {},
   "outputs": [
    {
     "name": "stdout",
     "output_type": "stream",
     "text": [
      "Help on method_descriptor:\n",
      "\n",
      "insert(self, index, object, /)\n",
      "    Insert object before index.\n",
      "\n"
     ]
    }
   ],
   "source": [
    "help(list.insert)"
   ]
  },
  {
   "cell_type": "code",
   "execution_count": 13,
   "metadata": {},
   "outputs": [
    {
     "name": "stdout",
     "output_type": "stream",
     "text": [
      "[1, 22, 2, 3, 4, 5, 2]\n"
     ]
    }
   ],
   "source": [
    "x = [1,2,3,4,5,2]\n",
    "x.insert(1,22)\n",
    "print(x)\n",
    "#it inserts 22 at index value 1 and shifts the rest values."
   ]
  },
  {
   "cell_type": "code",
   "execution_count": 14,
   "metadata": {},
   "outputs": [
    {
     "name": "stdout",
     "output_type": "stream",
     "text": [
      "Help on method_descriptor:\n",
      "\n",
      "remove(self, value, /)\n",
      "    Remove first occurrence of value.\n",
      "\n",
      "    Raises ValueError if the value is not present.\n",
      "\n"
     ]
    }
   ],
   "source": [
    "help(list.remove)"
   ]
  },
  {
   "cell_type": "code",
   "execution_count": 17,
   "metadata": {},
   "outputs": [
    {
     "name": "stdout",
     "output_type": "stream",
     "text": [
      "[1, 22, 3, 4, 5]\n"
     ]
    }
   ],
   "source": [
    "x.remove(2)\n",
    "print(x)"
   ]
  },
  {
   "cell_type": "code",
   "execution_count": 18,
   "metadata": {},
   "outputs": [
    {
     "name": "stdout",
     "output_type": "stream",
     "text": [
      "[2, 5, 4, 3, 2, 1]\n"
     ]
    }
   ],
   "source": [
    "x = [1,2,3,4,5,2]\n",
    "x.reverse()\n",
    "print(x)"
   ]
  },
  {
   "cell_type": "code",
   "execution_count": 19,
   "metadata": {},
   "outputs": [
    {
     "name": "stdout",
     "output_type": "stream",
     "text": [
      "[1, 2, 5, 22, 33, 46]\n"
     ]
    }
   ],
   "source": [
    "x = [1,22,33,46,5,2]\n",
    "x.sort()\n",
    "print(x)\n",
    "\n",
    "#ascending order sort"
   ]
  },
  {
   "cell_type": "code",
   "execution_count": 20,
   "metadata": {},
   "outputs": [
    {
     "name": "stdout",
     "output_type": "stream",
     "text": [
      "[46, 33, 22, 5, 2, 1]\n"
     ]
    }
   ],
   "source": [
    "x = [1,22,33,46,5,2]\n",
    "x.sort(reverse = True)\n",
    "print(x)\n"
   ]
  },
  {
   "cell_type": "code",
   "execution_count": 21,
   "metadata": {},
   "outputs": [
    {
     "name": "stdout",
     "output_type": "stream",
     "text": [
      "(1, 22, 33, 46, 5, 2) <class 'tuple'>\n"
     ]
    }
   ],
   "source": [
    "x = (1,22,33,46,5,2) \n",
    "print(x,type(x))"
   ]
  },
  {
   "cell_type": "markdown",
   "metadata": {},
   "source": [
    "Tuples are immutable =>> cannot be changed once declared. only count and index can be checked nothing else."
   ]
  },
  {
   "cell_type": "code",
   "execution_count": null,
   "metadata": {},
   "outputs": [],
   "source": [
    "#dynamic type + garbage collected"
   ]
  },
  {
   "cell_type": "markdown",
   "metadata": {},
   "source": [
    "List Vs Tuple\n",
    "Mutable | immutable\n",
    "[] | ()\n",
    "slower | faster\n",
    "more memory | less memory"
   ]
  },
  {
   "cell_type": "code",
   "execution_count": null,
   "metadata": {},
   "outputs": [],
   "source": [
    "fruits = ['apple', ' banana', 'mango', 'orange'] #lists are usually homogenous\n",
    "person = (1, 'ram', 'ktm', 'ram@gmail.com', 9324324) #tuples are heteregenous"
   ]
  },
  {
   "cell_type": "code",
   "execution_count": 28,
   "metadata": {},
   "outputs": [
    {
     "name": "stdout",
     "output_type": "stream",
     "text": [
      "{'id': 1, 'name': 'shyam', 'address': 'ktm', 'email': 'ram@gmail.com', 'contact': 932323232, 'salary': 24000} <class 'dict'>\n"
     ]
    }
   ],
   "source": [
    "#dictionary\n",
    "\n",
    "person = {\n",
    "    'id':1,\n",
    "    'name':'ram',\n",
    "    'address':\"ktm\",\n",
    "    'email':\"ram@gmail.com\",\n",
    "    \"contact\":932323232,\n",
    "    \"salary\":24000,\n",
    "    \"name\":\"shyam\"\n",
    "    }\n",
    "print(person, type(person))"
   ]
  },
  {
   "cell_type": "code",
   "execution_count": 29,
   "metadata": {},
   "outputs": [
    {
     "name": "stdout",
     "output_type": "stream",
     "text": [
      "shyam\n"
     ]
    }
   ],
   "source": [
    "print(person['name'])\n",
    "#whatever is at the end, python will show that as the result."
   ]
  },
  {
   "cell_type": "markdown",
   "metadata": {},
   "source": [
    "Dictionaries are also mutable datastructure. I can add and remove elements from a dictionary."
   ]
  },
  {
   "cell_type": "code",
   "execution_count": 30,
   "metadata": {},
   "outputs": [
    {
     "name": "stdout",
     "output_type": "stream",
     "text": [
      "{'id': 1, 'address': 'ktm', 'email': 'ram@gmail.com', 'contact': 932323232, 'salary': 24000} <class 'dict'>\n"
     ]
    }
   ],
   "source": [
    "#dictionary\n",
    "\n",
    "person = {\n",
    "    'id':1,\n",
    "    'name':'ram',\n",
    "    'address':\"ktm\",\n",
    "    'email':\"ram@gmail.com\",\n",
    "    \"contact\":932323232,\n",
    "    \"salary\":24000,\n",
    "    \"name\":\"shyam\"\n",
    "    }\n",
    "del person['name']\n",
    "print(person, type(person))"
   ]
  },
  {
   "cell_type": "markdown",
   "metadata": {},
   "source": [
    "small bracket does not determine a tuple. tuple can be tuple without a bracket but it must have comma."
   ]
  },
  {
   "cell_type": "code",
   "execution_count": 3,
   "metadata": {},
   "outputs": [
    {
     "name": "stdout",
     "output_type": "stream",
     "text": [
      "<class 'tuple'>\n",
      "<class 'int'>\n"
     ]
    }
   ],
   "source": [
    "x = 1,\n",
    "print(type(x))\n",
    "x_1 = 1\n",
    "print(type(x_1))"
   ]
  },
  {
   "cell_type": "code",
   "execution_count": 5,
   "metadata": {},
   "outputs": [
    {
     "name": "stdout",
     "output_type": "stream",
     "text": [
      "{'id': 1, 'name': 'shyam', 'address': 'ktm', 'email': 'ram@gmail.com', 'contact': 932323232, 'salary': 24000}\n",
      "{'id': 1, 'name': 'shyam', 'address': 'ktm', 'email': 'ram@gmail.com', 'contact': 932323232, 'salary': 24000, 'age': 22}\n"
     ]
    }
   ],
   "source": [
    "person = {\n",
    "    'id':1,\n",
    "    'name':'ram',\n",
    "    'address':\"ktm\",\n",
    "    'email':\"ram@gmail.com\",\n",
    "    \"contact\":932323232,\n",
    "    \"salary\":24000,\n",
    "    \"name\":\"shyam\"\n",
    "    }\n",
    "y = person.copy()\n",
    "y['age'] = 22\n",
    "print(person)\n",
    "print(y)"
   ]
  },
  {
   "cell_type": "code",
   "execution_count": 6,
   "metadata": {},
   "outputs": [
    {
     "ename": "KeyError",
     "evalue": "'age'",
     "output_type": "error",
     "traceback": [
      "\u001b[1;31m---------------------------------------------------------------------------\u001b[0m",
      "\u001b[1;31mKeyError\u001b[0m                                  Traceback (most recent call last)",
      "Cell \u001b[1;32mIn[6], line 10\u001b[0m\n\u001b[0;32m      1\u001b[0m person \u001b[38;5;241m=\u001b[39m {\n\u001b[0;32m      2\u001b[0m     \u001b[38;5;124m'\u001b[39m\u001b[38;5;124mid\u001b[39m\u001b[38;5;124m'\u001b[39m:\u001b[38;5;241m1\u001b[39m,\n\u001b[0;32m      3\u001b[0m     \u001b[38;5;124m'\u001b[39m\u001b[38;5;124mname\u001b[39m\u001b[38;5;124m'\u001b[39m:\u001b[38;5;124m'\u001b[39m\u001b[38;5;124mram\u001b[39m\u001b[38;5;124m'\u001b[39m,\n\u001b[1;32m   (...)\u001b[0m\n\u001b[0;32m      8\u001b[0m     \u001b[38;5;124m\"\u001b[39m\u001b[38;5;124mname\u001b[39m\u001b[38;5;124m\"\u001b[39m:\u001b[38;5;124m\"\u001b[39m\u001b[38;5;124mshyam\u001b[39m\u001b[38;5;124m\"\u001b[39m\n\u001b[0;32m      9\u001b[0m     }\n\u001b[1;32m---> 10\u001b[0m \u001b[43mperson\u001b[49m\u001b[43m[\u001b[49m\u001b[38;5;124;43m'\u001b[39;49m\u001b[38;5;124;43mage\u001b[39;49m\u001b[38;5;124;43m'\u001b[39;49m\u001b[43m]\u001b[49m\n",
      "\u001b[1;31mKeyError\u001b[0m: 'age'"
     ]
    }
   ],
   "source": [
    "person = {\n",
    "    'id':1,\n",
    "    'name':'ram',\n",
    "    'address':\"ktm\",\n",
    "    'email':\"ram@gmail.com\",\n",
    "    \"contact\":932323232,\n",
    "    \"salary\":24000,\n",
    "    \"name\":\"shyam\"\n",
    "    }\n",
    "person['age']"
   ]
  },
  {
   "cell_type": "code",
   "execution_count": 8,
   "metadata": {},
   "outputs": [
    {
     "name": "stdout",
     "output_type": "stream",
     "text": [
      "None\n"
     ]
    }
   ],
   "source": [
    "person = {\n",
    "    'id':1,\n",
    "    'name':'ram',\n",
    "    'address':\"ktm\",\n",
    "    'email':\"ram@gmail.com\",\n",
    "    \"contact\":932323232,\n",
    "    \"salary\":24000,\n",
    "    \"name\":\"shyam\"\n",
    "    }\n",
    "print(person.get('age'))"
   ]
  },
  {
   "cell_type": "code",
   "execution_count": 9,
   "metadata": {},
   "outputs": [
    {
     "name": "stdout",
     "output_type": "stream",
     "text": [
      "Help on method_descriptor:\n",
      "\n",
      "get(self, key, default=None, /)\n",
      "    Return the value for key if key is in the dictionary, else default.\n",
      "\n"
     ]
    }
   ],
   "source": [
    "help(dict.get)"
   ]
  },
  {
   "cell_type": "code",
   "execution_count": 10,
   "metadata": {},
   "outputs": [
    {
     "name": "stdout",
     "output_type": "stream",
     "text": [
      "22\n"
     ]
    }
   ],
   "source": [
    "person = {\n",
    "    'id':1,\n",
    "    'name':'ram',\n",
    "    'address':\"ktm\",\n",
    "    'email':\"ram@gmail.com\",\n",
    "    \"contact\":932323232,\n",
    "    \"salary\":24000,\n",
    "    \"name\":\"shyam\"\n",
    "    }\n",
    "\n",
    "print(person.get('age',22))"
   ]
  },
  {
   "cell_type": "code",
   "execution_count": 22,
   "metadata": {},
   "outputs": [
    {
     "name": "stdout",
     "output_type": "stream",
     "text": [
      "22\n",
      "{'id': 1, 'name': 'shyam', 'address': 'ktm', 'email': 'ram@gmail.com', 'contact': 932323232, 'salary': 24000, 'age': 22}\n"
     ]
    }
   ],
   "source": [
    "person = {\n",
    "    'id':1,\n",
    "    'name':'ram',\n",
    "    'address':\"ktm\",\n",
    "    'email':\"ram@gmail.com\",\n",
    "    \"contact\":932323232,\n",
    "    \"salary\":24000,\n",
    "    \"name\":\"shyam\"\n",
    "    } \n",
    "\n",
    "print(person.setdefault('age',22))\n",
    "print(person)"
   ]
  },
  {
   "cell_type": "code",
   "execution_count": 27,
   "metadata": {},
   "outputs": [
    {
     "name": "stdout",
     "output_type": "stream",
     "text": [
      "{}\n"
     ]
    }
   ],
   "source": [
    "person = {\n",
    "    'id':1,\n",
    "    'name':'ram',\n",
    "    'address':\"ktm\",\n",
    "    'email':\"ram@gmail.com\",\n",
    "    \"contact\":932323232,\n",
    "    \"salary\":24000,\n",
    "    \"name\":\"shyam\",\n",
    "    \"age1\":32,\n",
    "    }\n",
    "person.clear()\n",
    "print(person)"
   ]
  },
  {
   "cell_type": "code",
   "execution_count": 28,
   "metadata": {},
   "outputs": [
    {
     "name": "stdout",
     "output_type": "stream",
     "text": [
      "dict_keys(['id', 'name', 'address', 'email', 'contact', 'salary', 'age1'])\n"
     ]
    }
   ],
   "source": [
    "person = {\n",
    "    'id':1,\n",
    "    'name':'ram',\n",
    "    'address':\"ktm\",\n",
    "    'email':\"ram@gmail.com\",\n",
    "    \"contact\":932323232,\n",
    "    \"salary\":24000,\n",
    "    \"name\":\"shyam\",\n",
    "    \"age1\":32,\n",
    "    }\n",
    "print(person.keys())"
   ]
  },
  {
   "cell_type": "code",
   "execution_count": 29,
   "metadata": {},
   "outputs": [
    {
     "name": "stdout",
     "output_type": "stream",
     "text": [
      "dict_values([1, 'shyam', 'ktm', 'ram@gmail.com', 932323232, 24000, 32])\n"
     ]
    }
   ],
   "source": [
    "person = {\n",
    "    'id':1,\n",
    "    'name':'ram',\n",
    "    'address':\"ktm\",\n",
    "    'email':\"ram@gmail.com\",\n",
    "    \"contact\":932323232,\n",
    "    \"salary\":24000,\n",
    "    \"name\":\"shyam\",\n",
    "    \"age1\":32,\n",
    "    }\n",
    "print(person.values())"
   ]
  },
  {
   "cell_type": "code",
   "execution_count": 31,
   "metadata": {},
   "outputs": [
    {
     "name": "stdout",
     "output_type": "stream",
     "text": [
      "dict_items([('id', 1), ('name', 'shyam'), ('address', 'ktm'), ('email', 'ram@gmail.com'), ('contact', 932323232), ('salary', 24000), ('age1', 32)])\n"
     ]
    }
   ],
   "source": [
    "person = {\n",
    "    'id':1,\n",
    "    'name':'ram',\n",
    "    'address':\"ktm\",\n",
    "    'email':\"ram@gmail.com\",\n",
    "    \"contact\":932323232,\n",
    "    \"salary\":24000,\n",
    "    \"name\":\"shyam\",\n",
    "    \"age1\":32,\n",
    "    }\n",
    "print(person.items())"
   ]
  },
  {
   "cell_type": "code",
   "execution_count": 33,
   "metadata": {},
   "outputs": [
    {
     "name": "stdout",
     "output_type": "stream",
     "text": [
      "1 2\n"
     ]
    }
   ],
   "source": [
    "#tuple unpacking\n",
    "\n",
    "a,b = 1,2 \n",
    "print(a,b)"
   ]
  },
  {
   "cell_type": "code",
   "execution_count": 40,
   "metadata": {},
   "outputs": [
    {
     "name": "stdout",
     "output_type": "stream",
     "text": [
      "{'id': 1, 'name': 'shyam', 'address': 'ktm', 'email': 'ram@gmail.com', 'contact': 932323232, 'salary': 24000}\n"
     ]
    }
   ],
   "source": [
    "person = {\n",
    "    'id':1,\n",
    "    'name':'ram',\n",
    "    'address':\"ktm\",\n",
    "    'email':\"ram@gmail.com\",\n",
    "    \"contact\":932323232,\n",
    "    \"salary\":24000,\n",
    "    \"name\":\"shyam\",\n",
    "    \"age1\":32,\n",
    "    }\n",
    "\n",
    "person.pop('age1')\n",
    "print(person)"
   ]
  },
  {
   "cell_type": "code",
   "execution_count": 43,
   "metadata": {},
   "outputs": [
    {
     "name": "stdout",
     "output_type": "stream",
     "text": [
      "{'id': 1, 'name': 'shyam', 'address': 'ktm', 'email': 'ram@gmail.com', 'contact': 932323232, 'salary': 24000}\n"
     ]
    }
   ],
   "source": [
    "person = {\n",
    "    'id':1,\n",
    "    'name':'ram',\n",
    "    'address':\"ktm\",\n",
    "    'email':\"ram@gmail.com\",\n",
    "    \"contact\":932323232,\n",
    "    \"salary\":24000,\n",
    "    \"name\":\"shyam\",\n",
    "    \"age1\":32,\n",
    "    }\n",
    "\n",
    "person.popitem()\n",
    "print(person)"
   ]
  },
  {
   "cell_type": "code",
   "execution_count": 44,
   "metadata": {},
   "outputs": [
    {
     "name": "stdout",
     "output_type": "stream",
     "text": [
      "Help on class dict in module builtins:\n",
      "\n",
      "class dict(object)\n",
      " |  dict() -> new empty dictionary\n",
      " |  dict(mapping) -> new dictionary initialized from a mapping object's\n",
      " |      (key, value) pairs\n",
      " |  dict(iterable) -> new dictionary initialized as if via:\n",
      " |      d = {}\n",
      " |      for k, v in iterable:\n",
      " |          d[k] = v\n",
      " |  dict(**kwargs) -> new dictionary initialized with the name=value pairs\n",
      " |      in the keyword argument list.  For example:  dict(one=1, two=2)\n",
      " |\n",
      " |  Built-in subclasses:\n",
      " |      StgDict\n",
      " |\n",
      " |  Methods defined here:\n",
      " |\n",
      " |  __contains__(self, key, /)\n",
      " |      True if the dictionary has the specified key, else False.\n",
      " |\n",
      " |  __delitem__(self, key, /)\n",
      " |      Delete self[key].\n",
      " |\n",
      " |  __eq__(self, value, /)\n",
      " |      Return self==value.\n",
      " |\n",
      " |  __ge__(self, value, /)\n",
      " |      Return self>=value.\n",
      " |\n",
      " |  __getattribute__(self, name, /)\n",
      " |      Return getattr(self, name).\n",
      " |\n",
      " |  __getitem__(self, key, /)\n",
      " |      Return self[key].\n",
      " |\n",
      " |  __gt__(self, value, /)\n",
      " |      Return self>value.\n",
      " |\n",
      " |  __init__(self, /, *args, **kwargs)\n",
      " |      Initialize self.  See help(type(self)) for accurate signature.\n",
      " |\n",
      " |  __ior__(self, value, /)\n",
      " |      Return self|=value.\n",
      " |\n",
      " |  __iter__(self, /)\n",
      " |      Implement iter(self).\n",
      " |\n",
      " |  __le__(self, value, /)\n",
      " |      Return self<=value.\n",
      " |\n",
      " |  __len__(self, /)\n",
      " |      Return len(self).\n",
      " |\n",
      " |  __lt__(self, value, /)\n",
      " |      Return self<value.\n",
      " |\n",
      " |  __ne__(self, value, /)\n",
      " |      Return self!=value.\n",
      " |\n",
      " |  __or__(self, value, /)\n",
      " |      Return self|value.\n",
      " |\n",
      " |  __repr__(self, /)\n",
      " |      Return repr(self).\n",
      " |\n",
      " |  __reversed__(self, /)\n",
      " |      Return a reverse iterator over the dict keys.\n",
      " |\n",
      " |  __ror__(self, value, /)\n",
      " |      Return value|self.\n",
      " |\n",
      " |  __setitem__(self, key, value, /)\n",
      " |      Set self[key] to value.\n",
      " |\n",
      " |  __sizeof__(...)\n",
      " |      D.__sizeof__() -> size of D in memory, in bytes\n",
      " |\n",
      " |  clear(...)\n",
      " |      D.clear() -> None.  Remove all items from D.\n",
      " |\n",
      " |  copy(...)\n",
      " |      D.copy() -> a shallow copy of D\n",
      " |\n",
      " |  get(self, key, default=None, /)\n",
      " |      Return the value for key if key is in the dictionary, else default.\n",
      " |\n",
      " |  items(...)\n",
      " |      D.items() -> a set-like object providing a view on D's items\n",
      " |\n",
      " |  keys(...)\n",
      " |      D.keys() -> a set-like object providing a view on D's keys\n",
      " |\n",
      " |  pop(...)\n",
      " |      D.pop(k[,d]) -> v, remove specified key and return the corresponding value.\n",
      " |\n",
      " |      If the key is not found, return the default if given; otherwise,\n",
      " |      raise a KeyError.\n",
      " |\n",
      " |  popitem(self, /)\n",
      " |      Remove and return a (key, value) pair as a 2-tuple.\n",
      " |\n",
      " |      Pairs are returned in LIFO (last-in, first-out) order.\n",
      " |      Raises KeyError if the dict is empty.\n",
      " |\n",
      " |  setdefault(self, key, default=None, /)\n",
      " |      Insert key with a value of default if key is not in the dictionary.\n",
      " |\n",
      " |      Return the value for key if key is in the dictionary, else default.\n",
      " |\n",
      " |  update(...)\n",
      " |      D.update([E, ]**F) -> None.  Update D from dict/iterable E and F.\n",
      " |      If E is present and has a .keys() method, then does:  for k in E: D[k] = E[k]\n",
      " |      If E is present and lacks a .keys() method, then does:  for k, v in E: D[k] = v\n",
      " |      In either case, this is followed by: for k in F:  D[k] = F[k]\n",
      " |\n",
      " |  values(...)\n",
      " |      D.values() -> an object providing a view on D's values\n",
      " |\n",
      " |  ----------------------------------------------------------------------\n",
      " |  Class methods defined here:\n",
      " |\n",
      " |  __class_getitem__(...) from builtins.type\n",
      " |      See PEP 585\n",
      " |\n",
      " |  fromkeys(iterable, value=None, /) from builtins.type\n",
      " |      Create a new dictionary with keys from iterable and values set to value.\n",
      " |\n",
      " |  ----------------------------------------------------------------------\n",
      " |  Static methods defined here:\n",
      " |\n",
      " |  __new__(*args, **kwargs) from builtins.type\n",
      " |      Create and return a new object.  See help(type) for accurate signature.\n",
      " |\n",
      " |  ----------------------------------------------------------------------\n",
      " |  Data and other attributes defined here:\n",
      " |\n",
      " |  __hash__ = None\n",
      "\n"
     ]
    }
   ],
   "source": [
    "help(dict)"
   ]
  },
  {
   "cell_type": "code",
   "execution_count": 47,
   "metadata": {},
   "outputs": [
    {
     "name": "stdout",
     "output_type": "stream",
     "text": [
      "{'id': 1, 'name': 'shyam', 'address': 'ktm', 'email': 'ram@gmail.com', 'contact': 932323232, 'salary': 24000, 'age1': 32}\n",
      "{'contact': 932323232, 'salary': 24000, 'name': 'shyam', 'age1': 32}\n"
     ]
    }
   ],
   "source": [
    "person = {\n",
    "    'id':1,\n",
    "    'name':'ram',\n",
    "    'address':\"ktm\",\n",
    "    'email':\"ram@gmail.com\",\n",
    "}\n",
    "person2 = {\n",
    "    \"contact\":932323232,\n",
    "    \"salary\":24000,\n",
    "    \"name\":\"shyam\",\n",
    "    \"age1\":32,\n",
    "    }\n",
    "\n",
    "person.update(person2)\n",
    "print(person)\n",
    "print(person2)"
   ]
  },
  {
   "cell_type": "code",
   "execution_count": null,
   "metadata": {},
   "outputs": [],
   "source": []
  }
 ],
 "metadata": {
  "kernelspec": {
   "display_name": "Python 3",
   "language": "python",
   "name": "python3"
  },
  "language_info": {
   "codemirror_mode": {
    "name": "ipython",
    "version": 3
   },
   "file_extension": ".py",
   "mimetype": "text/x-python",
   "name": "python",
   "nbconvert_exporter": "python",
   "pygments_lexer": "ipython3",
   "version": "3.12.0"
  }
 },
 "nbformat": 4,
 "nbformat_minor": 2
}
