{
 "cells": [
  {
   "cell_type": "code",
   "execution_count": null,
   "metadata": {},
   "outputs": [],
   "source": []
  },
  {
   "cell_type": "code",
   "execution_count": null,
   "metadata": {},
   "outputs": [
    {
     "name": "stdout",
     "output_type": "stream",
     "text": [
      "hello1\n"
     ]
    }
   ],
   "source": [
    "#if the first condition is fulfiled then no other conditions will run in if-else-elif.\n",
    "\n",
    "if True:\n",
    "    print(\"hello1\")\n",
    "elif True:\n",
    "    print(\"hello2\")\n",
    "elif True:\n",
    "    print(\"hello4\")\n",
    "elif True:\n",
    "    print(\"hello4\")\n",
    "else:\n",
    "    print(\"hello 5\")"
   ]
  },
  {
   "cell_type": "code",
   "execution_count": null,
   "metadata": {},
   "outputs": [
    {
     "name": "stdout",
     "output_type": "stream",
     "text": [
      "hello2\n"
     ]
    }
   ],
   "source": [
    "\n",
    "if False:\n",
    "    print(\"hello1\")\n",
    "else:\n",
    "    print(\"hello2\")"
   ]
  },
  {
   "cell_type": "code",
   "execution_count": null,
   "metadata": {},
   "outputs": [
    {
     "name": "stdout",
     "output_type": "stream",
     "text": [
      "hello\n",
      "hello2\n",
      "hello3\n"
     ]
    }
   ],
   "source": [
    "#if else matra lagauda chai sabai lines run hunchha\n",
    "\n",
    "if True:\n",
    "    print(\"hello\")\n",
    "if True:\n",
    "    print(\"hello2\")\n",
    "if True:\n",
    "    print(\"hello3\")\n",
    "else:\n",
    "    print(\"hello4\")\n"
   ]
  },
  {
   "cell_type": "code",
   "execution_count": null,
   "metadata": {},
   "outputs": [
    {
     "name": "stdout",
     "output_type": "stream",
     "text": [
      "hello1\n",
      "hello3\n",
      "hello5\n"
     ]
    }
   ],
   "source": [
    "if True:\n",
    "    print(\"hello1\")\n",
    "if False:\n",
    "    print(\"hello2\")\n",
    "if True:\n",
    "    print(\"hello3\")\n",
    "if False:\n",
    "    print(\"hello4\")\n",
    "else:\n",
    "    print(\"hello5\")"
   ]
  },
  {
   "cell_type": "code",
   "execution_count": null,
   "metadata": {},
   "outputs": [
    {
     "name": "stdout",
     "output_type": "stream",
     "text": [
      "hello1\n",
      "hello3\n"
     ]
    }
   ],
   "source": [
    "if True:\n",
    "    print(\"hello1\")\n",
    "elif False:\n",
    "    print(\"hello2\")\n",
    "if True:\n",
    "    print(\"hello3\")\n",
    "elif False:\n",
    "    print(\"hello4\")\n",
    "else:\n",
    "    print(\"hello5\")"
   ]
  },
  {
   "cell_type": "code",
   "execution_count": null,
   "metadata": {},
   "outputs": [
    {
     "name": "stdout",
     "output_type": "stream",
     "text": [
      "successfully logged in\n"
     ]
    }
   ],
   "source": [
    "username = (input(\"username:\"))\n",
    "password = (input(\"password:\"))\n",
    "\n",
    "if username == \"admin\" and password == \"admin123\":\n",
    "    print(\"successfully logged in\")\n",
    "elif username == \"admin\":\n",
    "    print(\"password wrong\")\n",
    "elif password == \"admin123\":\n",
    "    print(\"username is wrong\")\n",
    "else:\n",
    "    print(\"login failed\")\n",
    "\n",
    "#login page codes are like this nai hola prolly\n",
    "\n",
    "\n",
    "\n",
    "\n"
   ]
  },
  {
   "cell_type": "code",
   "execution_count": null,
   "metadata": {},
   "outputs": [
    {
     "name": "stdout",
     "output_type": "stream",
     "text": [
      "successfully logged in\n"
     ]
    }
   ],
   "source": [
    "username = (input(\"username:\"))\n",
    "password = (input(\"password:\"))\n",
    "role = (input(\"role:\"))\n",
    "\n",
    "if username == \"admin\" and password == \"admin123\" or role == \"superadmin\":\n",
    "    print(\"successfully logged in\")\n",
    "else:\n",
    "    print(\"incorrect username or password\")\n",
    "\n",
    "#iteration 2 of the same\n",
    "    "
   ]
  },
  {
   "cell_type": "code",
   "execution_count": null,
   "metadata": {},
   "outputs": [],
   "source": [
    "username = (input(\"username:\"))\n",
    "password = (input(\"password:\"))\n",
    "role = (input(\"role:\"))\n",
    "if username == \"admin\" and password == \"admin123\" or role == \"superadmin\":\n",
    "    print(\"successfully logged in\")\n",
    "elif username == \"admin\":\n",
    "    print(\"password wrong\")\n",
    "elif password == \"admin123\":\n",
    "    print(\"username is wrong\")\n",
    "else:\n",
    "    print(\"login failed\")\n",
    "\n",
    "#login page codes are like this nai hola prolly\n",
    "\n"
   ]
  },
  {
   "cell_type": "code",
   "execution_count": null,
   "metadata": {},
   "outputs": [],
   "source": [
    "username = (input(\"username:\"))\n",
    "password = (input(\"password:\"))\n",
    "role = (input(\"role:\"))\n",
    "if username == \"admin\" and password == \"admin123\" or role == \"superadmin\":\n",
    "    print(\"successfully logged in\")\n",
    "elif username == \"admin\":\n",
    "    print(\"password wrong\")\n",
    "elif password == \"admin123\":\n",
    "    print(\"username is wrong\")\n",
    "else:\n",
    "    print(\"login failed\")\n",
    "\n",
    "#login page codes are like this nai hola prolly\n",
    "\n"
   ]
  },
  {
   "cell_type": "code",
   "execution_count": null,
   "metadata": {},
   "outputs": [
    {
     "name": "stdout",
     "output_type": "stream",
     "text": [
      "successfully logged in\n"
     ]
    }
   ],
   "source": [
    "username = (input(\"username:\"))\n",
    "password = (input(\"password:\"))\n",
    "\n",
    "if username == \"admin\" and password == \"admin123\":\n",
    "    print(\"successfully logged in\")\n",
    "else:\n",
    "    role = (input(\"role:\"))\n",
    "    if role == \"superadmin\":\n",
    "        print(\"successfully logged in\")\n",
    "    else:\n",
    "        print(\"incorrect username or password\")\n",
    "\n",
    "#if username password is wrong code directly asks for role.\n",
    "    "
   ]
  },
  {
   "cell_type": "code",
   "execution_count": null,
   "metadata": {},
   "outputs": [
    {
     "name": "stdout",
     "output_type": "stream",
     "text": [
      "login failed\n"
     ]
    }
   ],
   "source": [
    "username = (input(\"username:\"))\n",
    "password = (input(\"password:\"))\n",
    "\n",
    "if username == \"admin\" and password == \"admin123\":\n",
    "    print(\"successfully logged in\")\n",
    "else:\n",
    "    access = (input(\"do you want to access role?\"))\n",
    "    if access.lowe() == \"yes\":\n",
    "         role = (input(\"role:\"))\n",
    "         if role == \"superadmin\":\n",
    "             print(\"login sucessful\")\n",
    "         else:\n",
    "             print(\"login failed\")\n",
    "    else:\n",
    "        print(\"incorrect username or password\")\n",
    "\n",
    "#username and password wrong but the code does not ask directly for role. It rather asks whether we want to access role or not.\n",
    "    "
   ]
  },
  {
   "cell_type": "code",
   "execution_count": null,
   "metadata": {},
   "outputs": [],
   "source": [
    "#else bhitra ko if and if bhitra ko if is called nested if."
   ]
  },
  {
   "cell_type": "code",
   "execution_count": null,
   "metadata": {},
   "outputs": [
    {
     "ename": "AttributeError",
     "evalue": "'str' object has no attribute 'lowe'",
     "output_type": "error",
     "traceback": [
      "\u001b[1;31m---------------------------------------------------------------------------\u001b[0m\n",
      "\u001b[1;31mAttributeError\u001b[0m                            Traceback (most recent call last)\n",
      "Cell \u001b[1;32mIn[3], line 8\u001b[0m\n",
      "\u001b[0;32m      6\u001b[0m \u001b[38;5;28;01melse\u001b[39;00m:\n",
      "\u001b[0;32m      7\u001b[0m     access \u001b[38;5;241m=\u001b[39m (\u001b[38;5;28minput\u001b[39m(\u001b[38;5;124m\"\u001b[39m\u001b[38;5;124mdo you want to access role?\u001b[39m\u001b[38;5;124m\"\u001b[39m))\n",
      "\u001b[1;32m----> 8\u001b[0m     \u001b[38;5;28;01mif\u001b[39;00m \u001b[43maccess\u001b[49m\u001b[38;5;241;43m.\u001b[39;49m\u001b[43mlowe\u001b[49m() \u001b[38;5;241m==\u001b[39m \u001b[38;5;124m\"\u001b[39m\u001b[38;5;124myes\u001b[39m\u001b[38;5;124m\"\u001b[39m:\n",
      "\u001b[0;32m      9\u001b[0m          role \u001b[38;5;241m=\u001b[39m (\u001b[38;5;28minput\u001b[39m(\u001b[38;5;124m\"\u001b[39m\u001b[38;5;124mrole:\u001b[39m\u001b[38;5;124m\"\u001b[39m))\n",
      "\u001b[0;32m     10\u001b[0m          \u001b[38;5;28;01mif\u001b[39;00m role \u001b[38;5;241m==\u001b[39m \u001b[38;5;124m\"\u001b[39m\u001b[38;5;124msuperadmin\u001b[39m\u001b[38;5;124m\"\u001b[39m:\n",
      "\n",
      "\u001b[1;31mAttributeError\u001b[0m: 'str' object has no attribute 'lowe'"
     ]
    }
   ],
   "source": [
    "username = (input(\"username:\"))\n",
    "password = (input(\"password:\"))\n",
    "\n",
    "if username == \"admin\" and password == \"admin123\":\n",
    "    print(\"successfully logged in\")\n",
    "else:\n",
    "    access = (input(\"do you want to access role?\"))\n",
    "    if access.lowe() == \"yes\":\n",
    "         role = (input(\"role:\"))\n",
    "         if role == \"superadmin\":\n",
    "             print(\"login sucessful\")\n",
    "         else:\n",
    "             print(\"login failed\")\n",
    "    else:\n",
    "        print(\"incorrect username or password\")\n",
    "\n",
    "#username and password wrong but the code does not ask directly for role. It rather asks whether we want to access role or not.\n",
    "    "
   ]
  },
  {
   "cell_type": "code",
   "execution_count": null,
   "metadata": {},
   "outputs": [
    {
     "ename": "AttributeError",
     "evalue": "'str' object has no attribute 'lowe'",
     "output_type": "error",
     "traceback": [
      "\u001b[1;31m---------------------------------------------------------------------------\u001b[0m\n",
      "\u001b[1;31mAttributeError\u001b[0m                            Traceback (most recent call last)\n",
      "Cell \u001b[1;32mIn[2], line 8\u001b[0m\n",
      "\u001b[0;32m      6\u001b[0m \u001b[38;5;28;01melse\u001b[39;00m:\n",
      "\u001b[0;32m      7\u001b[0m     access \u001b[38;5;241m=\u001b[39m (\u001b[38;5;28minput\u001b[39m(\u001b[38;5;124m\"\u001b[39m\u001b[38;5;124mdo you want to access role?\u001b[39m\u001b[38;5;124m\"\u001b[39m))\n",
      "\u001b[1;32m----> 8\u001b[0m     \u001b[38;5;28;01mif\u001b[39;00m \u001b[43maccess\u001b[49m\u001b[38;5;241;43m.\u001b[39;49m\u001b[43mlowe\u001b[49m() \u001b[38;5;241m==\u001b[39m \u001b[38;5;124m\"\u001b[39m\u001b[38;5;124myes\u001b[39m\u001b[38;5;124m\"\u001b[39m:\n",
      "\u001b[0;32m      9\u001b[0m          role \u001b[38;5;241m=\u001b[39m (\u001b[38;5;28minput\u001b[39m(\u001b[38;5;124m\"\u001b[39m\u001b[38;5;124mrole:\u001b[39m\u001b[38;5;124m\"\u001b[39m))\n",
      "\u001b[0;32m     10\u001b[0m          \u001b[38;5;28;01mif\u001b[39;00m role \u001b[38;5;241m==\u001b[39m \u001b[38;5;124m\"\u001b[39m\u001b[38;5;124msuperadmin\u001b[39m\u001b[38;5;124m\"\u001b[39m:\n",
      "\n",
      "\u001b[1;31mAttributeError\u001b[0m: 'str' object has no attribute 'lowe'"
     ]
    }
   ],
   "source": [
    "username = (input(\"username:\"))\n",
    "password = (input(\"password:\"))\n",
    "\n",
    "if username == \"admin\" and password == \"admin123\":\n",
    "    print(\"successfully logged in\")\n",
    "else:\n",
    "    access = (input(\"do you want to access role?\"))\n",
    "    if access.lower() == \"yes\":\n",
    "         role = (input(\"role:\"))\n",
    "         if role == \"superadmin\":\n",
    "             print(\"login sucessful\")\n",
    "         else:\n",
    "             print(\"login failed\")\n",
    "    else:\n",
    "        print(\"incorrect username or password\")\n",
    "\n",
    "#username and password wrong but the code does not ask directly for role. It rather asks whether we want to access role or not.\n",
    "    "
   ]
  }
 ],
 "metadata": {
  "language_info": {
   "name": "python"
  }
 },
 "nbformat": 4,
 "nbformat_minor": 2
}
