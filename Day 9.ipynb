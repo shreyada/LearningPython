{
 "cells": [
  {
   "cell_type": "code",
   "execution_count": null,
   "metadata": {},
   "outputs": [],
   "source": [
    "#>= 80 => distinction\n",
    "# 60 - 80 => first division\n",
    "# 50 - 60 => second division\n",
    "# 35 - 50 => third division\n",
    "# <35 => fail"
   ]
  },
  {
   "cell_type": "code",
   "execution_count": 2,
   "metadata": {},
   "outputs": [
    {
     "name": "stdout",
     "output_type": "stream",
     "text": [
      "50.0\n",
      "second division\n"
     ]
    }
   ],
   "source": [
    "maths = int(input(\"marks\"))\n",
    "science = int(input(\"marks\"))\n",
    "nepali = int(input(\"marks\"))\n",
    "social = int(input(\"marks\"))\n",
    "eph = int(input(\"marks\"))\n",
    "accounts = int(input(\"marks\"))\n",
    "computer = int(input(\"marks\"))\n",
    "\n",
    "average_marks = ((maths + science + nepali + social + eph + accounts + computer)/7)\n",
    "\n",
    "print(average_marks)\n",
    "\n",
    "if average_marks < 35:\n",
    "    print(\"fail\")\n",
    "elif 35 <= average_marks <50:\n",
    "    print(\"third division\")\n",
    "elif 50 <= average_marks <60:\n",
    "    print(\"second division\")\n",
    "elif 60 <= average_marks < 80:\n",
    "    print(\"first division\")\n",
    "elif 80 <= average_marks <= 100:\n",
    "    print(\"distinction\")"
   ]
  },
  {
   "cell_type": "markdown",
   "metadata": {},
   "source": [
    "Homework"
   ]
  },
  {
   "cell_type": "code",
   "execution_count": 4,
   "metadata": {},
   "outputs": [
    {
     "name": "stdout",
     "output_type": "stream",
     "text": [
      "<class 'list'>\n",
      "1\n",
      "2\n",
      "3\n",
      "4\n",
      "5\n"
     ]
    }
   ],
   "source": [
    "#Loops\n",
    "\n",
    "x = [1,2,3,4,5]\n",
    "print(type(x))\n",
    "\n",
    "#for loop. so without needing to print one after another using index of one element and the next element, the for loop is prinitng the entire list not as a whole chunk but rather line after line.\n",
    "\n",
    "for i in x:\n",
    "    print(i)"
   ]
  },
  {
   "cell_type": "code",
   "execution_count": 10,
   "metadata": {},
   "outputs": [
    {
     "name": "stdout",
     "output_type": "stream",
     "text": [
      "15\n"
     ]
    }
   ],
   "source": [
    "x = [1,2,3,4,5]\n",
    "\n",
    "added_value = 0\n",
    "\n",
    "for i in x:\n",
    "   added_value = added_value + i \n",
    "\n",
    "print(added_value)"
   ]
  },
  {
   "cell_type": "code",
   "execution_count": 17,
   "metadata": {},
   "outputs": [
    {
     "name": "stdout",
     "output_type": "stream",
     "text": [
      "120\n"
     ]
    }
   ],
   "source": [
    "x = [1,2,3,4,5]\n",
    "\n",
    "multiplied_value = 1\n",
    "\n",
    "for i in x:\n",
    "    multiplied_value *= i\n",
    "print(multiplied_value)\n",
    "\n",
    "#here print is not a part of the loop so it shows the final result only."
   ]
  },
  {
   "cell_type": "code",
   "execution_count": 18,
   "metadata": {},
   "outputs": [
    {
     "name": "stdout",
     "output_type": "stream",
     "text": [
      "1\n",
      "2\n",
      "6\n",
      "24\n",
      "120\n"
     ]
    }
   ],
   "source": [
    "x = [1,2,3,4,5]\n",
    "\n",
    "multiplied_value = 1\n",
    "\n",
    "for i in x:\n",
    "    multiplied_value *= i\n",
    "    print(multiplied_value)\n",
    "\n",
    "    #here print is a part of the loop so it shows one result after another."
   ]
  },
  {
   "cell_type": "code",
   "execution_count": 23,
   "metadata": {},
   "outputs": [
    {
     "name": "stdout",
     "output_type": "stream",
     "text": [
      "25\n"
     ]
    }
   ],
   "source": [
    "x = [1,2,3,4,5]\n",
    "\n",
    "\n",
    "\n",
    "for i in x:\n",
    "    squared_val = (i**2)\n",
    "\n",
    "print(squared_val)"
   ]
  },
  {
   "cell_type": "code",
   "execution_count": 24,
   "metadata": {},
   "outputs": [
    {
     "name": "stdout",
     "output_type": "stream",
     "text": [
      "1\n",
      "3\n",
      "5\n"
     ]
    }
   ],
   "source": [
    "x = [1,2,3,4,5]\n",
    "\n",
    "for i in x:\n",
    "    if i % 2 == 1:\n",
    "        print(i)"
   ]
  },
  {
   "cell_type": "code",
   "execution_count": 26,
   "metadata": {},
   "outputs": [
    {
     "name": "stdout",
     "output_type": "stream",
     "text": [
      "[1, 3, 5]\n"
     ]
    }
   ],
   "source": [
    "x = [1,2,3,4,5]\n",
    "\n",
    "odd_numbers = []\n",
    "for i in x:\n",
    "    if i % 2 == 1:\n",
    "        odd_numbers.append(i)\n",
    "print(odd_numbers)\n"
   ]
  },
  {
   "cell_type": "code",
   "execution_count": 29,
   "metadata": {},
   "outputs": [
    {
     "name": "stdout",
     "output_type": "stream",
     "text": [
      "['odd', 'even', 'odd', 'even', 'odd']\n"
     ]
    }
   ],
   "source": [
    "x = [1,2,3,4,5]\n",
    "output = []\n",
    "for i in x:\n",
    "    if i % 2 == 0:\n",
    "        output.append(\"even\")\n",
    "    else:\n",
    "        output.append(\"odd\")\n",
    "print(output)"
   ]
  },
  {
   "cell_type": "code",
   "execution_count": 30,
   "metadata": {},
   "outputs": [
    {
     "name": "stdout",
     "output_type": "stream",
     "text": [
      "[1, 2, 3, 6, 7, 8, 9, 10, 11, 12, 19, 24]\n"
     ]
    }
   ],
   "source": [
    "x = [1,2,3,1,6,2,7,1,11,19,3,8,9,3,9,10,11,12,24,1,2,3,8]\n",
    "\n",
    "output1 = list(set(x))\n",
    "\n",
    "print(output1)"
   ]
  },
  {
   "cell_type": "code",
   "execution_count": null,
   "metadata": {},
   "outputs": [],
   "source": []
  }
 ],
 "metadata": {
  "kernelspec": {
   "display_name": "Python 3",
   "language": "python",
   "name": "python3"
  },
  "language_info": {
   "codemirror_mode": {
    "name": "ipython",
    "version": 3
   },
   "file_extension": ".py",
   "mimetype": "text/x-python",
   "name": "python",
   "nbconvert_exporter": "python",
   "pygments_lexer": "ipython3",
   "version": "3.12.0"
  }
 },
 "nbformat": 4,
 "nbformat_minor": 2
}
