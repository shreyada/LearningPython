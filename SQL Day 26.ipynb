{
 "cells": [
  {
   "cell_type": "code",
   "execution_count": 3,
   "metadata": {},
   "outputs": [],
   "source": [
    "import sqlite3"
   ]
  },
  {
   "cell_type": "code",
   "execution_count": 4,
   "metadata": {},
   "outputs": [],
   "source": [
    "con = sqlite3.connect('student.sqlite3')\n"
   ]
  },
  {
   "cell_type": "code",
   "execution_count": 5,
   "metadata": {},
   "outputs": [],
   "source": [
    "cur = con.cursor()\n"
   ]
  },
  {
   "cell_type": "code",
   "execution_count": 7,
   "metadata": {},
   "outputs": [
    {
     "data": {
      "text/plain": [
       "<sqlite3.Cursor at 0x1944344b7c0>"
      ]
     },
     "execution_count": 7,
     "metadata": {},
     "output_type": "execute_result"
    }
   ],
   "source": [
    "CREATE_TABLE_QUERY = \"\"\"\n",
    "\n",
    "CREATE table student(\n",
    "\tid int primary key,\n",
    "\tname varchar not null,\n",
    "\taddress varchar not null,\n",
    "\tcollege varchar not null,\n",
    "\tage int not null,\n",
    "\tgender varchar(1) not null,\n",
    "\tfaculty varchar not null\n",
    ");\n",
    "\n",
    "\"\"\"\n",
    "cur.execute(CREATE_TABLE_QUERY)"
   ]
  },
  {
   "cell_type": "code",
   "execution_count": 8,
   "metadata": {},
   "outputs": [
    {
     "data": {
      "text/plain": [
       "<sqlite3.Cursor at 0x1944344b7c0>"
      ]
     },
     "execution_count": 8,
     "metadata": {},
     "output_type": "execute_result"
    }
   ],
   "source": [
    "INSERT_RECORDS = \"\"\"\n",
    "\n",
    "INSERT into student \n",
    "('id', 'name', 'address', 'college', 'age', 'gender', 'faculty')\n",
    "values\n",
    "(1, 'ram', 'kathmandu', 'ncit', 18, 'm', 'IT'),\n",
    "(2, 'shyam', 'lalitpur', 'islington', 20, 'm', 'CSIT'),\n",
    "(3, 'gita', 'pokhara', 'ncit', 21, 'f', 'SE'),\n",
    "(4, 'sita', 'kathmandu', 'ioe pulchowk', 24, 'f','CE');\n",
    "\n",
    "\"\"\"\n",
    "cur.execute(INSERT_RECORDS)"
   ]
  },
  {
   "cell_type": "code",
   "execution_count": 9,
   "metadata": {},
   "outputs": [],
   "source": [
    "con.commit()"
   ]
  },
  {
   "cell_type": "code",
   "execution_count": 11,
   "metadata": {},
   "outputs": [
    {
     "name": "stdout",
     "output_type": "stream",
     "text": [
      "<sqlite3.Cursor object at 0x000001944344B7C0>\n",
      "(1, 'ram', 'kathmandu', 'ncit', 18, 'm', 'IT', 'TU')\n",
      "(2, 'shyam', 'lalitpur', 'islington', 20, 'm', 'CSIT', 'TU')\n",
      "(3, 'gita', 'pokhara', 'ncit', 21, 'f', 'SE', 'TU')\n",
      "(4, 'sita', 'kathmandu', 'ioe pulchowk', 24, 'f', 'CE', 'TU')\n",
      "(5, 'hari', 'kathmandu', 'ioe pulchowk', 24, 'm', 'CIVIL', 'ku')\n",
      "(6, 'madan', 'pokhara', 'ncit', 21, 'f', 'SE', 'tu')\n",
      "(7, 'maya', 'kathmandu', 'isglington', 24, 'f', 'BIT', 'tu')\n",
      "(11, 'ramesh pradhan', 'lalitpur', 'ncit', 23, 'm', 'IT', 'TU')\n",
      "(8, 'hari bahadur', 'lalitpur', 'ncit', 23, 'm', 'SE', 'PU')\n",
      "(9, 'madan bahadur', 'kathmandu', 'british college', 24, 'm', 'IT', 'UK')\n",
      "(10, 'maya devi', 'lalitpur', 'ncit', 21, 'f', 'CE', 'PU')\n",
      "(13, 'hari bahadur', 'lalitpur', 'ncit', 23, 'm', 'SE', 'PU')\n",
      "(14, 'madan bahadur', 'kathmandu', 'british college', 24, 'm', 'IT', 'UK')\n",
      "(15, 'maya devi', 'lalitpur', 'ncit', 21, 'f', 'CE', 'PU')\n",
      "(2, 'shyam', 'lalitpur', 'islington', 20, 'm', 'CSIT', 'TU')\n",
      "(3, 'gita', 'pokhara', 'ncit', 21, 'f', 'SE', 'TU')\n",
      "(4, 'sita', 'kathmandu', 'ioe pulchowk', 24, 'f', 'CE', 'TU')\n",
      "(5, 'hari', 'kathmandu', 'ioe pulchowk', 24, 'm', 'CIVIL', 'ku')\n",
      "(6, 'madan', 'pokhara', 'ncit', 21, 'f', 'SE', 'tu')\n",
      "(7, 'maya', 'kathmandu', 'isglington', 24, 'f', 'BIT', 'tu')\n",
      "(11, 'ramesh pradhan', 'lalitpur', 'ncit', 23, 'm', 'IT', 'TU')\n",
      "(8, 'hari bahadur', 'lalitpur', 'ncit', 23, 'm', 'SE', 'PU')\n",
      "(9, 'madan bahadur', 'kathmandu', 'british college', 24, 'm', 'IT', 'UK')\n",
      "(10, 'maya devi', 'lalitpur', 'ncit', 21, 'f', 'CE', 'PU')\n",
      "(13, 'hari bahadur', 'lalitpur', 'ncit', 23, 'm', 'SE', 'PU')\n",
      "(14, 'madan bahadur', 'kathmandu', 'british college', 24, 'm', 'IT', 'UK')\n",
      "(15, 'maya devi', 'lalitpur', 'ncit', 21, 'f', 'CE', 'PU')\n"
     ]
    },
    {
     "ename": "OperationalError",
     "evalue": "duplicate column name: university",
     "output_type": "error",
     "traceback": [
      "\u001b[1;31m---------------------------------------------------------------------------\u001b[0m",
      "\u001b[1;31mOperationalError\u001b[0m                          Traceback (most recent call last)",
      "Cell \u001b[1;32mIn[11], line 11\u001b[0m\n\u001b[0;32m      8\u001b[0m \u001b[38;5;28;01mfor\u001b[39;00m student \u001b[38;5;129;01min\u001b[39;00m students:\n\u001b[0;32m      9\u001b[0m     \u001b[38;5;28mprint\u001b[39m(student)\n\u001b[1;32m---> 11\u001b[0m \u001b[43mcur\u001b[49m\u001b[38;5;241;43m.\u001b[39;49m\u001b[43mexecute\u001b[49m\u001b[43m(\u001b[49m\u001b[38;5;124;43m\"\u001b[39;49m\u001b[38;5;124;43mALTER table student add university default \u001b[39;49m\u001b[38;5;124;43m'\u001b[39;49m\u001b[38;5;124;43mTU\u001b[39;49m\u001b[38;5;124;43m'\u001b[39;49m\u001b[38;5;124;43m;\u001b[39;49m\u001b[38;5;124;43m\"\u001b[39;49m\u001b[43m)\u001b[49m\n\u001b[0;32m     13\u001b[0m con\u001b[38;5;241m.\u001b[39mcommit()\n\u001b[0;32m     15\u001b[0m cur\u001b[38;5;241m.\u001b[39mexecute(\u001b[38;5;124m\"\"\"\u001b[39m\n\u001b[0;32m     16\u001b[0m \n\u001b[0;32m     17\u001b[0m \u001b[38;5;124mINSERT into student \u001b[39m\n\u001b[1;32m   (...)\u001b[0m\n\u001b[0;32m     23\u001b[0m \n\u001b[0;32m     24\u001b[0m \u001b[38;5;124m\"\"\"\u001b[39m)\n",
      "\u001b[1;31mOperationalError\u001b[0m: duplicate column name: university"
     ]
    }
   ],
   "source": [
    "students = cur.execute(\"SELECT * from student;\")\n",
    "print(students)\n",
    "\n",
    "for student in students:\n",
    "    print(student)\n",
    "\n",
    "students = cur.execute(\"SELECT * from student where age > 18;\")\n",
    "for student in students:\n",
    "    print(student)\n",
    "\n",
    "cur.execute(\"ALTER table student add university default 'TU';\")\n",
    "\n",
    "con.commit()\n",
    "\n",
    "cur.execute(\"\"\"\n",
    "\n",
    "INSERT into student \n",
    "('id', 'name', 'address', 'college', 'age', 'gender', 'faculty', 'university')\n",
    "values\n",
    "(5, 'hari', 'kathmandu', 'ioe pulchowk', 24, 'm','CIVIL', 'ku'),\n",
    "(6, 'madan', 'pokhara', 'ncit', 21, 'f', 'SE', 'tu'),\n",
    "(7, 'maya', 'kathmandu', 'isglington', 24, 'f','BIT', 'tu');\n",
    "\n",
    "\"\"\")\n",
    "\n",
    "con.commit()\n",
    "\n",
    "students = cur.execute(\"SELECT * from student where address = 'lalitpur';\")\n",
    "for student in students:\n",
    "    print(student)\n",
    "\n",
    "address = input(\"Enter the address: \")\n",
    "\n",
    "students = cur.execute(f\"SELECT * from student where address = '{address}';\")\n",
    "for student in students:\n",
    "    print(student)\n",
    "\n",
    "address = input(\"Enter the address: \")\n",
    "\n",
    "students = cur.execute(f\"SELECT * from student where address = '{address}';\")\n",
    "for student in students:\n",
    "    print(student)\n",
    "\n",
    "# SELECT * from student where address = 'lalitpur' or address = 'kathmandu'\n",
    "\n",
    "address = input(\"Enter the address: \")\n",
    "\n",
    "students = cur.execute(\"SELECT * from student where address = ?;\", (address,))\n",
    "for student in students:\n",
    "    print(student)\n",
    "\n",
    "address = input(\"Enter the address: \")\n",
    "\n",
    "students = cur.execute(\"SELECT * from student where address = ?;\", (address,))\n",
    "for student in students:\n",
    "    print(student)\n",
    "\n",
    "student = (11, 'ramesh pradhan', 'lalitpur', 'ncit', 23, 'm', \"IT\", \"TU\")\n",
    "\n",
    "INSERT_RECORDS = \"\"\"\n",
    "\n",
    "INSERT into student \n",
    "('id', 'name', 'address', 'college', 'age', 'gender', 'faculty', 'university')\n",
    "values\n",
    "(?, ?, ?, ?, ?, ?, ?, ?);\n",
    "\n",
    "\"\"\"\n",
    "\n",
    "cur.execute(INSERT_RECORDS, student)\n",
    "\n",
    "con.commit()\n",
    "\n",
    "students = [\n",
    "    (8, 'hari bahadur', 'lalitpur', 'ncit', 23, 'm', \"SE\", \"PU\"),\n",
    "    (9, 'madan bahadur', 'kathmandu', 'british college', 24, 'm', \"IT\", 'UK'),\n",
    "    (10, 'maya devi', 'lalitpur', 'ncit', 21, 'f', \"CE\", \"PU\"),\n",
    "]\n",
    "\n",
    "for student in students:\n",
    "    INSERT_RECORDS = \"\"\"\n",
    "    \n",
    "    INSERT into student \n",
    "    ('id', 'name', 'address', 'college', 'age', 'gender', 'faculty', 'university')\n",
    "    values\n",
    "    (?, ?, ?, ?, ?, ?, ?, ?);\n",
    "    \n",
    "    \"\"\"\n",
    "    \n",
    "    cur.execute(INSERT_RECORDS, student)\n",
    "    \n",
    "    con.commit()\n",
    "\n",
    "students = [\n",
    "    (13, 'hari bahadur', 'lalitpur', 'ncit', 23, 'm', \"SE\", \"PU\"),\n",
    "    (14, 'madan bahadur', 'kathmandu', 'british college', 24, 'm', \"IT\", 'UK'),\n",
    "    (15, 'maya devi', 'lalitpur', 'ncit', 21, 'f', \"CE\", \"PU\"),\n",
    "]\n",
    "\n",
    "INSERT_RECORDS = \"\"\"\n",
    "\n",
    "INSERT into student \n",
    "('id', 'name', 'address', 'college', 'age', 'gender', 'faculty', 'university')\n",
    "values\n",
    "(?, ?, ?, ?, ?, ?, ?, ?);\n",
    "\n",
    "\"\"\"\n",
    "\n",
    "cur.executemany(INSERT_RECORDS, students)\n",
    "\n",
    "con.commit()"
   ]
  }
 ],
 "metadata": {
  "kernelspec": {
   "display_name": "Python 3",
   "language": "python",
   "name": "python3"
  },
  "language_info": {
   "codemirror_mode": {
    "name": "ipython",
    "version": 3
   },
   "file_extension": ".py",
   "mimetype": "text/x-python",
   "name": "python",
   "nbconvert_exporter": "python",
   "pygments_lexer": "ipython3",
   "version": "3.12.0"
  }
 },
 "nbformat": 4,
 "nbformat_minor": 2
}
